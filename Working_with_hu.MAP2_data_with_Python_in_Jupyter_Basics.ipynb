{
 "cells": [
  {
   "cell_type": "markdown",
   "id": "1e545493-7bc6-414d-9ff9-aa52f6c45685",
   "metadata": {},
   "source": [
    "# Use of hu.MAP 2.0 data programmatically with Python, taking advantage of Jupyter features\n",
    "\n",
    "Work through the cells in this notebook that go through prepartaion steps and then some example rounds of queries. This will give you an idea of what is occuring to programmatically mine and annotate proteins identified in complexes in human cells. You could then edit this to run queries on the complexes of your favorite human proteins.  \n",
    "However, I would suggest before spending a lot of time on that to see [the next notebook in this series](Making_many_hu.MAP2_reports_easily_using_Snakemake.ipynb) as you probably are interested in at least a handul of proteins and that will provide a more convenient way to query about the complexes of multiple proteins. What will be produced by the next notebook in this series is very similar to what you see here, yet all you need to do is provide a list of protein/gene identifiers and let it automatically process the identifiers in the list to produce report summaries like this file for each valid identifier in the list you provide. (That system has a check each round that what you provided is valid, and so if you are hitting issues here with your identifiers not working, see that one. There is no 'check' step in this demonstration Jupyter notebook.)\n",
    "\n",
    "-------\n",
    "\n",
    "What this Jupyter notebook file will produce when run:\n",
    "\n",
    "- This Jupyter `.ipynb` file containing the following information:\n",
    "    - list of all the proteins found in complexes along with the examined protein.\n",
    "    - details about the individual complexes the examined protein occurs in, featuring extra information from UniProt.\n",
    "    - list of proteins not observed to directly complex with the examined protein, yet complex with proteins that do directly complex.\n",
    "- tab-separated files containing the details in the first two bullet points listed above\n",
    "- an HTML file with the details about the individual complexes the examined protein occurs in, featuring extra information from UniProt. (The idea is you can use this anytime independent of Jupyter, to possibly share with others or convert to PDF & then share.)"
   ]
  },
  {
   "cell_type": "markdown",
   "id": "2eee8d3f-70ef-444a-b932-c7a092bc0ac3",
   "metadata": {},
   "source": [
    "#### Preparation"
   ]
  },
  {
   "cell_type": "markdown",
   "id": "4955a5ee-dfc5-49ab-b173-dc6ae50ae59f",
   "metadata": {},
   "source": [
    "##### Get the complexes with confidence scores\n",
    "\n",
    "Because the author-provided source didn't work for the hu.MAP 3.0 data, I expected `curl -OL \"http://humap2.proteincomplexes.org/static/downloads/humap2/humap2_complexes_20200809.txt\"` to work on my local machine, yet fail on MyBinder because the involved port may be blocked on MyBinder for getting it from the original resource. Because of that expectation, I made a copy at https://gist.githubusercontent.com/fomightez/af3edda957e4d71acbaa30192e74e9af/raw/108a8c3fb3374a74ef3ca5d772a9dfe96e996c93/humap2_complexes_20200809.txt where MyBinder would have access. However, the curl of the original source works!! \n",
    "(Keeping a note about my copy now but using original source.)  \n",
    "Run the next cell to get the data:"
   ]
  },
  {
   "cell_type": "code",
   "execution_count": 1,
   "id": "c80a36fc-fbb5-4980-aea5-25872d5aeb33",
   "metadata": {},
   "outputs": [
    {
     "name": "stdout",
     "output_type": "stream",
     "text": [
      "  % Total    % Received % Xferd  Average Speed   Time    Time     Time  Current\n",
      "                                 Dload  Upload   Total   Spent    Left  Speed\n",
      "100  502k  100  502k    0     0  1171k      0 --:--:-- --:--:-- --:--:-- 1171k\n"
     ]
    }
   ],
   "source": [
    "!curl -OL https://raw.githubusercontent.com/fomightez/humap2-binder/refs/heads/main/additional_nbs/standardizing_initial_data/humap2_complexes_20200809InOrderMatched.csv"
   ]
  },
  {
   "cell_type": "markdown",
   "id": "6992d046-e280-4ddd-b4a6-e18906df959c",
   "metadata": {},
   "source": [
    "Get an accessory script for adding information about the proteins in the complexes:"
   ]
  },
  {
   "cell_type": "code",
   "execution_count": 2,
   "id": "0d08cff4-c9ad-4065-8246-38e58b71f513",
   "metadata": {},
   "outputs": [
    {
     "name": "stdout",
     "output_type": "stream",
     "text": [
      "  % Total    % Received % Xferd  Average Speed   Time    Time     Time  Current\n",
      "                                 Dload  Upload   Total   Spent    Left  Speed\n",
      "100  2893  100  2893    0     0  11682      0 --:--:-- --:--:-- --:--:-- 11712\n"
     ]
    }
   ],
   "source": [
    "!curl -OL https://raw.githubusercontent.com/fomightez/structurework/refs/heads/master/humap3-utilities/make_lookup_table_for_extra_info4complexes.py"
   ]
  },
  {
   "cell_type": "markdown",
   "id": "6bcf301a-75c8-4faa-9c2e-028d7cb4bc55",
   "metadata": {},
   "source": [
    "##### Put the data on the complexes into Pandas dataframe\n",
    "\n",
    "(I'm using uv here just because I want to learn about it. I could have run the code in the script right in this notebook, and skipped the pickling and read pickle steps.)"
   ]
  },
  {
   "cell_type": "markdown",
   "id": "3a6e10f2-2228-4d44-a27b-cf93aa431e8b",
   "metadata": {},
   "source": [
    "Get the script to use with `uv` to read in the raw data and make a dataframe."
   ]
  },
  {
   "cell_type": "code",
   "execution_count": 3,
   "id": "fa6f2f0f-2231-4d35-b5c7-08d89d5aed2d",
   "metadata": {},
   "outputs": [
    {
     "name": "stdout",
     "output_type": "stream",
     "text": [
      "  % Total    % Received % Xferd  Average Speed   Time    Time     Time  Current\n",
      "                                 Dload  Upload   Total   Spent    Left  Speed\n",
      "100  1007  100  1007    0     0    553      0  0:00:01  0:00:01 --:--:--   553\n"
     ]
    }
   ],
   "source": [
    "!curl -OL https://raw.githubusercontent.com/fomightez/structurework/refs/heads/master/humap3-utilities/complexes_rawCSV_to_df.py"
   ]
  },
  {
   "cell_type": "code",
   "execution_count": 4,
   "id": "faf15ae5-dcc7-4ca2-91a0-e1087c915791",
   "metadata": {},
   "outputs": [
    {
     "name": "stdout",
     "output_type": "stream",
     "text": [
      "Reading inline script metadata from `\u001b[36mcomplexes_rawCSV_to_df.py\u001b[39m`\n",
      "\u001b[2K\u001b[37m⠙\u001b[0m \u001b[2m                                                                              \u001b[0m"
     ]
    },
    {
     "data": {
      "text/html": [
       "<div>\n",
       "<style scoped>\n",
       "    .dataframe tbody tr th:only-of-type {\n",
       "        vertical-align: middle;\n",
       "    }\n",
       "\n",
       "    .dataframe tbody tr th {\n",
       "        vertical-align: top;\n",
       "    }\n",
       "\n",
       "    .dataframe thead th {\n",
       "        text-align: right;\n",
       "    }\n",
       "</style>\n",
       "<table border=\"1\" class=\"dataframe\">\n",
       "  <thead>\n",
       "    <tr style=\"text-align: right;\">\n",
       "      <th></th>\n",
       "      <th>HuMAP2_ID</th>\n",
       "      <th>Confidence</th>\n",
       "      <th>Uniprot_ACCs</th>\n",
       "      <th>genenames</th>\n",
       "    </tr>\n",
       "  </thead>\n",
       "  <tbody>\n",
       "    <tr>\n",
       "      <th>0</th>\n",
       "      <td>HuMAP2_00000</td>\n",
       "      <td>3</td>\n",
       "      <td>O95900 Q9BQS8</td>\n",
       "      <td>TRUB2 FYCO1</td>\n",
       "    </tr>\n",
       "    <tr>\n",
       "      <th>1</th>\n",
       "      <td>HuMAP2_00001</td>\n",
       "      <td>4</td>\n",
       "      <td>Q15102 P68402 Q15797 P08133 Q99426 Q9H4M9</td>\n",
       "      <td>PAFAH1B3 PAFAH1B2 SMAD1 ANXA6 TBCB EHD1</td>\n",
       "    </tr>\n",
       "    <tr>\n",
       "      <th>2</th>\n",
       "      <td>HuMAP2_00002</td>\n",
       "      <td>5</td>\n",
       "      <td>Q9UF11 A1KXE4 Q6ZRY4 Q9Y6M7 Q15038 O43251 Q930...</td>\n",
       "      <td>PLEKHB1 FAM168B RBPMS2 SLC4A7 DAZAP2 RBFOX2 RB...</td>\n",
       "    </tr>\n",
       "    <tr>\n",
       "      <th>3</th>\n",
       "      <td>HuMAP2_00003</td>\n",
       "      <td>5</td>\n",
       "      <td>O14974 Q8WUM9 Q9Y5Y0 Q16563 Q14919 Q15836 Q299...</td>\n",
       "      <td>PPP1R12A SLC20A1 FLVCR1 SYPL1 DRAP1 VAMP3 MICA...</td>\n",
       "    </tr>\n",
       "    <tr>\n",
       "      <th>4</th>\n",
       "      <td>HuMAP2_00004</td>\n",
       "      <td>4</td>\n",
       "      <td>Q8WV99 Q49A92 Q9NQT8 Q9H672 P20774</td>\n",
       "      <td>ZFAND2B C8orf34 KIF13B ASB7 OGN</td>\n",
       "    </tr>\n",
       "    <tr>\n",
       "      <th>...</th>\n",
       "      <td>...</td>\n",
       "      <td>...</td>\n",
       "      <td>...</td>\n",
       "      <td>...</td>\n",
       "    </tr>\n",
       "    <tr>\n",
       "      <th>6960</th>\n",
       "      <td>HuMAP2_07014</td>\n",
       "      <td>4</td>\n",
       "      <td>Q9HC97 P31152 Q6S8J3 P13727 Q92871</td>\n",
       "      <td>GPR35 MAPK4 POTEE PRG2 PMM1</td>\n",
       "    </tr>\n",
       "    <tr>\n",
       "      <th>6961</th>\n",
       "      <td>HuMAP2_07015</td>\n",
       "      <td>4</td>\n",
       "      <td>Q96E29 Q8N5N7 Q96I51 Q9H5L6 O75127 Q9NPE2</td>\n",
       "      <td>MTERF3 MRPL50 RCC1L THAP9 PTCD1 NGRN</td>\n",
       "    </tr>\n",
       "    <tr>\n",
       "      <th>6962</th>\n",
       "      <td>HuMAP2_07016</td>\n",
       "      <td>5</td>\n",
       "      <td>O75319 Q96HN2 Q8NE31 O43865 P52952 Q2T9J0 Q9UP...</td>\n",
       "      <td>DUSP11 AHCYL2 FAM13C AHCYL1 NKX2-5 TYSND1 PDZR...</td>\n",
       "    </tr>\n",
       "    <tr>\n",
       "      <th>6963</th>\n",
       "      <td>HuMAP2_07017</td>\n",
       "      <td>2</td>\n",
       "      <td>Q96GP6 Q53GT1 P49448</td>\n",
       "      <td>SCARF2 KLHL22 GLUD2</td>\n",
       "    </tr>\n",
       "    <tr>\n",
       "      <th>6964</th>\n",
       "      <td>HuMAP2_07018</td>\n",
       "      <td>2</td>\n",
       "      <td>Q2NKX9 Q86US8 Q9Y223</td>\n",
       "      <td>C2orf68 SMG6 GNE</td>\n",
       "    </tr>\n",
       "  </tbody>\n",
       "</table>\n",
       "<p>6965 rows × 4 columns</p>\n",
       "</div>"
      ],
      "text/plain": [
       "         HuMAP2_ID  Confidence  \\\n",
       "0     HuMAP2_00000           3   \n",
       "1     HuMAP2_00001           4   \n",
       "2     HuMAP2_00002           5   \n",
       "3     HuMAP2_00003           5   \n",
       "4     HuMAP2_00004           4   \n",
       "...            ...         ...   \n",
       "6960  HuMAP2_07014           4   \n",
       "6961  HuMAP2_07015           4   \n",
       "6962  HuMAP2_07016           5   \n",
       "6963  HuMAP2_07017           2   \n",
       "6964  HuMAP2_07018           2   \n",
       "\n",
       "                                           Uniprot_ACCs  \\\n",
       "0                                         O95900 Q9BQS8   \n",
       "1             Q15102 P68402 Q15797 P08133 Q99426 Q9H4M9   \n",
       "2     Q9UF11 A1KXE4 Q6ZRY4 Q9Y6M7 Q15038 O43251 Q930...   \n",
       "3     O14974 Q8WUM9 Q9Y5Y0 Q16563 Q14919 Q15836 Q299...   \n",
       "4                    Q8WV99 Q49A92 Q9NQT8 Q9H672 P20774   \n",
       "...                                                 ...   \n",
       "6960                 Q9HC97 P31152 Q6S8J3 P13727 Q92871   \n",
       "6961          Q96E29 Q8N5N7 Q96I51 Q9H5L6 O75127 Q9NPE2   \n",
       "6962  O75319 Q96HN2 Q8NE31 O43865 P52952 Q2T9J0 Q9UP...   \n",
       "6963                               Q96GP6 Q53GT1 P49448   \n",
       "6964                               Q2NKX9 Q86US8 Q9Y223   \n",
       "\n",
       "                                              genenames  \n",
       "0                                           TRUB2 FYCO1  \n",
       "1               PAFAH1B3 PAFAH1B2 SMAD1 ANXA6 TBCB EHD1  \n",
       "2     PLEKHB1 FAM168B RBPMS2 SLC4A7 DAZAP2 RBFOX2 RB...  \n",
       "3     PPP1R12A SLC20A1 FLVCR1 SYPL1 DRAP1 VAMP3 MICA...  \n",
       "4                       ZFAND2B C8orf34 KIF13B ASB7 OGN  \n",
       "...                                                 ...  \n",
       "6960                        GPR35 MAPK4 POTEE PRG2 PMM1  \n",
       "6961               MTERF3 MRPL50 RCC1L THAP9 PTCD1 NGRN  \n",
       "6962  DUSP11 AHCYL2 FAM13C AHCYL1 NKX2-5 TYSND1 PDZR...  \n",
       "6963                                SCARF2 KLHL22 GLUD2  \n",
       "6964                                   C2orf68 SMG6 GNE  \n",
       "\n",
       "[6965 rows x 4 columns]"
      ]
     },
     "execution_count": 4,
     "metadata": {},
     "output_type": "execute_result"
    }
   ],
   "source": [
    "!uv run complexes_rawCSV_to_df.py humap2_complexes_20200809InOrderMatched.csv\n",
    "import pandas as pd\n",
    "rd_df = pd.read_pickle('raw_complexes_pickled_df.pkl')\n",
    "rd_df"
   ]
  },
  {
   "cell_type": "markdown",
   "id": "c21e55a6-7064-430a-bacd-c9fbb7d2f9fe",
   "metadata": {},
   "source": [
    "That's a lot of complexes!\n",
    "\n",
    "--------"
   ]
  },
  {
   "cell_type": "markdown",
   "id": "703a5e9d-b2a9-4085-8fde-3774fc6b5bbf",
   "metadata": {},
   "source": [
    "## Analyze complexes for a protein\n",
    "\n",
    "Let's start in this notebook with a single protein and use Python/Pandas to access the data easily.  \n",
    "\n",
    "The next line will define the identifier for this protein to be used as the search term for this entire notebook. (The query can be done with the human gene name or the UniProt accession number.) "
   ]
  },
  {
   "cell_type": "code",
   "execution_count": 5,
   "id": "73616bb2-04f8-44ca-b6dc-2220c229eaf6",
   "metadata": {},
   "outputs": [],
   "source": [
    "search_term = \"ROGDI\""
   ]
  },
  {
   "cell_type": "markdown",
   "id": "5c6a6a97-cdd9-4f0a-8540-35c48a538b3b",
   "metadata": {},
   "source": [
    "With that set, the rest of this notebook will do three things:  \n",
    "- First we'll just list all the proteins found in complexes along with that corresponding protein.\n",
    "- Then we'll detail the individual complexes themselves, adding extra information from UniProt.\n",
    "- Finally, we'll fo out another 'layer' by collecting a list of proteins observed in complexes with proteins identified in the hu.MAP 3,0 data to be complexed with the query protein, yet don't appear as members of the complexes along the query protein."
   ]
  },
  {
   "cell_type": "markdown",
   "id": "15f2055a-3fe0-48fd-a9a4-110ecf01aac7",
   "metadata": {},
   "source": [
    "-----\n",
    "\n",
    "### Show all proteins in related complexes with details added from Uniprot\n",
    "\n",
    "Run the following cell to initiate the query that will collect all the."
   ]
  },
  {
   "cell_type": "code",
   "execution_count": 6,
   "id": "840044ca-7478-40fa-9758-054673372b08",
   "metadata": {},
   "outputs": [
    {
     "data": {
      "text/html": [
       "<pre style=\"white-space:pre;overflow-x:auto;line-height:normal;font-family:Menlo,'DejaVu Sans Mono',consolas,'Courier New',monospace\">\n",
       "<span style=\"color: #000000; text-decoration-color: #000000; font-weight: bold\">THE </span><span style=\"color: #000000; text-decoration-color: #000000; font-weight: bold\">5</span><span style=\"color: #000000; text-decoration-color: #000000; font-weight: bold\"> PROTEINS OCCURING IN COMPLEXES WITH </span><span style=\"color: #000000; text-decoration-color: #000000; font-weight: bold\">'ROGDI'</span><span style=\"color: #000000; text-decoration-color: #000000; font-weight: bold\">:</span>\n",
       "\n",
       "</pre>\n"
      ],
      "text/plain": [
       "\n",
       "\u001b[1;30mTHE \u001b[0m\u001b[1;30m5\u001b[0m\u001b[1;30m PROTEINS OCCURING IN COMPLEXES WITH \u001b[0m\u001b[1;30m'ROGDI'\u001b[0m\u001b[1;30m:\u001b[0m\n",
       "\n"
      ]
     },
     "metadata": {},
     "output_type": "display_data"
    },
    {
     "data": {
      "text/html": [
       "<style type=\"text/css\">\n",
       "</style>\n",
       "<table id=\"T_40664\">\n",
       "  <thead>\n",
       "    <tr>\n",
       "      <th id=\"T_40664_level0_col0\" class=\"col_heading level0 col0\" >Uniprot_ACCs</th>\n",
       "      <th id=\"T_40664_level0_col1\" class=\"col_heading level0 col1\" >genenames</th>\n",
       "    </tr>\n",
       "  </thead>\n",
       "  <tbody>\n",
       "    <tr>\n",
       "      <td id=\"T_40664_row0_col0\" class=\"data row0 col0\" >Q9Y4E6</td>\n",
       "      <td id=\"T_40664_row0_col1\" class=\"data row0 col1\" >WDR7</td>\n",
       "    </tr>\n",
       "    <tr>\n",
       "      <td id=\"T_40664_row1_col0\" class=\"data row1 col0\" >P50993</td>\n",
       "      <td id=\"T_40664_row1_col1\" class=\"data row1 col1\" >ATP1A2</td>\n",
       "    </tr>\n",
       "    <tr>\n",
       "      <td id=\"T_40664_row2_col0\" class=\"data row2 col0\" >Q8TDJ6</td>\n",
       "      <td id=\"T_40664_row2_col1\" class=\"data row2 col1\" >DMXL2</td>\n",
       "    </tr>\n",
       "    <tr>\n",
       "      <td id=\"T_40664_row3_col0\" class=\"data row3 col0\" >Q9Y485</td>\n",
       "      <td id=\"T_40664_row3_col1\" class=\"data row3 col1\" >DMXL1</td>\n",
       "    </tr>\n",
       "    <tr>\n",
       "      <td id=\"T_40664_row4_col0\" class=\"data row4 col0\" >Q9GZN7</td>\n",
       "      <td id=\"T_40664_row4_col1\" class=\"data row4 col1\" >ROGDI</td>\n",
       "    </tr>\n",
       "  </tbody>\n",
       "</table>\n"
      ],
      "text/plain": [
       "<pandas.io.formats.style.Styler at 0x7ff291f3a020>"
      ]
     },
     "metadata": {},
     "output_type": "display_data"
    }
   ],
   "source": [
    "# run the query collecting all proteins it occurs with\n",
    "pattern = fr'\\b{search_term}\\b' # Create a regex pattern with word boundaries\n",
    "rows_with_term = rd_df[rd_df['Uniprot_ACCs'].str.contains(pattern, case=False, regex=True) | rd_df['genenames'].str.contains(pattern, case=False, regex=True)]\n",
    "list_all_associated_acc_name_tuples = []\n",
    "for row in rows_with_term.itertuples():\n",
    "    #print(row)\n",
    "    list_all_associated_acc_name_tuples.extend((item1, item2) for item1, item2 in zip(row.Uniprot_ACCs.split(), row.genenames.split()))\n",
    "partners_df = pd.DataFrame(set(list_all_associated_acc_name_tuples), columns=['Uniprot_ACCs', 'genenames'])\n",
    "import rich\n",
    "rich.print(f\"\\n[bold black]THE {len(partners_df)} PROTEINS OCCURING IN COMPLEXES WITH '{search_term}':[/bold black]\\n\")\n",
    "with pd.option_context('display.max_rows', None, 'display.max_columns', None):\n",
    "    display(partners_df.style.hide())"
   ]
  },
  {
   "cell_type": "markdown",
   "id": "2538bb9e-9adc-4a8c-8798-5339fdc4da98",
   "metadata": {},
   "source": [
    "(Note: if you try to set the `search_term` to a non-valid identifier, you'll see as the ouptut here `NameError: name 'rd_df' is not defined`. The easiest way to see what you are using is a valid identifier & present in the data is to double-click in the file browser pane on the left side on the file `humap2_complexes_20200809InOrderMatched.csv` retrieved in the preparation step above. And then with that `.CSV` file open from the menu choose `Edit` > `Find` and entire your identifier in the box in the upper right and hit enter. If you hit enter and nothing happens, that identifier is not valid or no data is available. There is a programmatic check for this in the next notebook in the series.)\n",
    "\n",
    "For now, the information is inclusive, meaning the search term protein is listed among them. I could easily change that."
   ]
  },
  {
   "cell_type": "markdown",
   "id": "99eae850-ea27-4343-9ea5-26d7ec6749c5",
   "metadata": {},
   "source": [
    "The convenience of Pandas makes that easy to store for later use as a tab-separated file that will work with Excel.  \n",
    "Make sure to download it to your local machine."
   ]
  },
  {
   "cell_type": "code",
   "execution_count": 7,
   "id": "68b4c366-cf93-480f-b3dd-65a04e7add65",
   "metadata": {},
   "outputs": [],
   "source": [
    "import datetime\n",
    "now = datetime.datetime.now()\n",
    "partners_df.to_csv(f'{search_term}_complexes_partners_humap3{now.strftime(\"_%Y_%m_%d\")}.tsv', sep='\\t',index = False) "
   ]
  },
  {
   "cell_type": "markdown",
   "id": "5a1d5143-111e-4d90-aa98-54a83d5bc52c",
   "metadata": {},
   "source": [
    "Show the file made:"
   ]
  },
  {
   "cell_type": "code",
   "execution_count": 8,
   "id": "530cdfff-e679-4ebe-bacc-89df75dd21f9",
   "metadata": {},
   "outputs": [
    {
     "name": "stdout",
     "output_type": "stream",
     "text": [
      "ROGDI_complexes_partners_humap3_2024_11_12.tsv\n"
     ]
    }
   ],
   "source": [
    "ls *_complexes_partners_*"
   ]
  },
  {
   "cell_type": "markdown",
   "id": "7f8f64f0-5109-494e-b8c8-42ef92f3c957",
   "metadata": {},
   "source": [
    "Make sure to download that if it is useful because this session is temporary.\n",
    "That file should open in Excel just fine. (I could actually produce Excel files using openpyxl but leave that for later expansion.)"
   ]
  },
  {
   "cell_type": "markdown",
   "id": "5c7c078c-6d52-4885-b895-497a462e4b68",
   "metadata": {},
   "source": [
    "### Show all complexes that protein is in with extra information\n",
    "\n",
    "The extra annotation information will come from the UniProt KnowledgeBase, using the package unipressed. This starts to show how doing this in Python/Jupyter can add convenience.\n",
    "\n",
    "Run the following cell, and then those below it in this seciton to perform the query for this round."
   ]
  },
  {
   "cell_type": "code",
   "execution_count": 9,
   "id": "2f3a0227-c905-4572-97e4-613e396f0f4c",
   "metadata": {},
   "outputs": [
    {
     "name": "stdout",
     "output_type": "stream",
     "text": [
      "       HuMAP2_ID  Confidence Uniprot_ACCs genenames\n",
      "6   HuMAP2_01834           3       Q9Y4E6      WDR7\n",
      "7   HuMAP2_03388           2       Q9Y485     DMXL1\n",
      "8   HuMAP2_03388           2       Q9GZN7     ROGDI\n",
      "9   HuMAP2_03388           2       Q8TDJ6     DMXL2\n",
      "10  HuMAP2_03388           2       Q9Y4E6      WDR7\n"
     ]
    }
   ],
   "source": [
    "# Next few cells will run the query collecting all complexes it occurs with and adding details\n",
    "pattern = fr'\\b{search_term}\\b' # Create a regex pattern with word boundaries\n",
    "rows_with_term_df = rd_df[rd_df['Uniprot_ACCs'].str.contains(pattern, case=False, regex=True) | rd_df['genenames'].str.contains(pattern, case=False, regex=True)].copy()\n",
    "# make the dataframe have each row be a single protein\n",
    "# to prepare to use pandas `explode()` to do that, first make the content in be lists\n",
    "rows_with_term_df['Uniprot_ACCs'] = rows_with_term_df['Uniprot_ACCs'].str.split()\n",
    "rows_with_term_df['genenames'] = rows_with_term_df['genenames'].str.split()\n",
    "# Now use explode to create a new row for each element in both columns\n",
    "df_expanded = rows_with_term_df.explode(['Uniprot_ACCs', 'genenames']).copy()\n",
    "# Reset the index \n",
    "df_expanded = df_expanded.reset_index(drop=True)\n",
    "# Display the first few rows of the expanded dataframe\n",
    "print(df_expanded.tail())\n",
    "# Next add extra information from UniProt for each protein"
   ]
  },
  {
   "cell_type": "code",
   "execution_count": 10,
   "id": "cbb2d4bb-f6ae-47f2-b978-2dbc76c76a99",
   "metadata": {},
   "outputs": [],
   "source": [
    "# This cell makes lookup table with the extra information; it takes a while to run & so is in a cell on its own to save time during development\n",
    "%run -i make_lookup_table_for_extra_info4complexes.py"
   ]
  },
  {
   "cell_type": "code",
   "execution_count": 11,
   "id": "ea2245de-2b7a-4b9b-97f0-6e8a15932644",
   "metadata": {},
   "outputs": [
    {
     "data": {
      "text/html": [
       "<div>\n",
       "<style scoped>\n",
       "    .dataframe tbody tr th:only-of-type {\n",
       "        vertical-align: middle;\n",
       "    }\n",
       "\n",
       "    .dataframe tbody tr th {\n",
       "        vertical-align: top;\n",
       "    }\n",
       "\n",
       "    .dataframe thead th {\n",
       "        text-align: right;\n",
       "    }\n",
       "</style>\n",
       "<table border=\"1\" class=\"dataframe\">\n",
       "  <thead>\n",
       "    <tr style=\"text-align: right;\">\n",
       "      <th></th>\n",
       "      <th>HuMAP2_ID</th>\n",
       "      <th>Confidence</th>\n",
       "      <th>Uniprot_ACCs</th>\n",
       "      <th>genenames</th>\n",
       "      <th>synonyms</th>\n",
       "      <th>protein_name</th>\n",
       "      <th>disease</th>\n",
       "      <th>Link</th>\n",
       "    </tr>\n",
       "  </thead>\n",
       "  <tbody>\n",
       "    <tr>\n",
       "      <th>0</th>\n",
       "      <td>HuMAP2_01148</td>\n",
       "      <td>Moderate High</td>\n",
       "      <td>Q9GZN7</td>\n",
       "      <td>ROGDI</td>\n",
       "      <td>None reported</td>\n",
       "      <td>Protein rogdi homolog</td>\n",
       "      <td>Kohlschuetter-Toenz syndrome</td>\n",
       "      <td>https://www.uniprot.org/uniprotkb/Q9GZN7</td>\n",
       "    </tr>\n",
       "    <tr>\n",
       "      <th>1</th>\n",
       "      <td>HuMAP2_01148</td>\n",
       "      <td>Moderate High</td>\n",
       "      <td>Q8TDJ6</td>\n",
       "      <td>DMXL2</td>\n",
       "      <td>KIAA0856</td>\n",
       "      <td>DmX-like protein 2</td>\n",
       "      <td>Polyendocrine-polyneuropathy syndrome; Deafnes...</td>\n",
       "      <td>https://www.uniprot.org/uniprotkb/Q8TDJ6</td>\n",
       "    </tr>\n",
       "    <tr>\n",
       "      <th>2</th>\n",
       "      <td>HuMAP2_01834</td>\n",
       "      <td>High</td>\n",
       "      <td>P50993</td>\n",
       "      <td>ATP1A2</td>\n",
       "      <td>KIAA0778</td>\n",
       "      <td>Sodium/potassium-transporting ATPase subunit a...</td>\n",
       "      <td>Migraine, familial hemiplegic, 2; Alternating ...</td>\n",
       "      <td>https://www.uniprot.org/uniprotkb/P50993</td>\n",
       "    </tr>\n",
       "    <tr>\n",
       "      <th>3</th>\n",
       "      <td>HuMAP2_01834</td>\n",
       "      <td>High</td>\n",
       "      <td>Q9Y485</td>\n",
       "      <td>DMXL1</td>\n",
       "      <td>XL1</td>\n",
       "      <td>DmX-like protein 1</td>\n",
       "      <td>None reported</td>\n",
       "      <td>https://www.uniprot.org/uniprotkb/Q9Y485</td>\n",
       "    </tr>\n",
       "    <tr>\n",
       "      <th>4</th>\n",
       "      <td>HuMAP2_01834</td>\n",
       "      <td>High</td>\n",
       "      <td>Q9GZN7</td>\n",
       "      <td>ROGDI</td>\n",
       "      <td>None reported</td>\n",
       "      <td>Protein rogdi homolog</td>\n",
       "      <td>Kohlschuetter-Toenz syndrome</td>\n",
       "      <td>https://www.uniprot.org/uniprotkb/Q9GZN7</td>\n",
       "    </tr>\n",
       "    <tr>\n",
       "      <th>5</th>\n",
       "      <td>HuMAP2_01834</td>\n",
       "      <td>High</td>\n",
       "      <td>Q8TDJ6</td>\n",
       "      <td>DMXL2</td>\n",
       "      <td>KIAA0856</td>\n",
       "      <td>DmX-like protein 2</td>\n",
       "      <td>Polyendocrine-polyneuropathy syndrome; Deafnes...</td>\n",
       "      <td>https://www.uniprot.org/uniprotkb/Q8TDJ6</td>\n",
       "    </tr>\n",
       "    <tr>\n",
       "      <th>6</th>\n",
       "      <td>HuMAP2_01834</td>\n",
       "      <td>High</td>\n",
       "      <td>Q9Y4E6</td>\n",
       "      <td>WDR7</td>\n",
       "      <td>KIAA0541; TRAG</td>\n",
       "      <td>WD repeat-containing protein 7</td>\n",
       "      <td>None reported</td>\n",
       "      <td>https://www.uniprot.org/uniprotkb/Q9Y4E6</td>\n",
       "    </tr>\n",
       "    <tr>\n",
       "      <th>7</th>\n",
       "      <td>HuMAP2_03388</td>\n",
       "      <td>Very High</td>\n",
       "      <td>Q9Y485</td>\n",
       "      <td>DMXL1</td>\n",
       "      <td>XL1</td>\n",
       "      <td>DmX-like protein 1</td>\n",
       "      <td>None reported</td>\n",
       "      <td>https://www.uniprot.org/uniprotkb/Q9Y485</td>\n",
       "    </tr>\n",
       "    <tr>\n",
       "      <th>8</th>\n",
       "      <td>HuMAP2_03388</td>\n",
       "      <td>Very High</td>\n",
       "      <td>Q9GZN7</td>\n",
       "      <td>ROGDI</td>\n",
       "      <td>None reported</td>\n",
       "      <td>Protein rogdi homolog</td>\n",
       "      <td>Kohlschuetter-Toenz syndrome</td>\n",
       "      <td>https://www.uniprot.org/uniprotkb/Q9GZN7</td>\n",
       "    </tr>\n",
       "    <tr>\n",
       "      <th>9</th>\n",
       "      <td>HuMAP2_03388</td>\n",
       "      <td>Very High</td>\n",
       "      <td>Q8TDJ6</td>\n",
       "      <td>DMXL2</td>\n",
       "      <td>KIAA0856</td>\n",
       "      <td>DmX-like protein 2</td>\n",
       "      <td>Polyendocrine-polyneuropathy syndrome; Deafnes...</td>\n",
       "      <td>https://www.uniprot.org/uniprotkb/Q8TDJ6</td>\n",
       "    </tr>\n",
       "    <tr>\n",
       "      <th>10</th>\n",
       "      <td>HuMAP2_03388</td>\n",
       "      <td>Very High</td>\n",
       "      <td>Q9Y4E6</td>\n",
       "      <td>WDR7</td>\n",
       "      <td>KIAA0541; TRAG</td>\n",
       "      <td>WD repeat-containing protein 7</td>\n",
       "      <td>None reported</td>\n",
       "      <td>https://www.uniprot.org/uniprotkb/Q9Y4E6</td>\n",
       "    </tr>\n",
       "  </tbody>\n",
       "</table>\n",
       "</div>"
      ],
      "text/plain": [
       "       HuMAP2_ID     Confidence Uniprot_ACCs genenames        synonyms  \\\n",
       "0   HuMAP2_01148  Moderate High       Q9GZN7     ROGDI   None reported   \n",
       "1   HuMAP2_01148  Moderate High       Q8TDJ6     DMXL2        KIAA0856   \n",
       "2   HuMAP2_01834           High       P50993    ATP1A2        KIAA0778   \n",
       "3   HuMAP2_01834           High       Q9Y485     DMXL1             XL1   \n",
       "4   HuMAP2_01834           High       Q9GZN7     ROGDI   None reported   \n",
       "5   HuMAP2_01834           High       Q8TDJ6     DMXL2        KIAA0856   \n",
       "6   HuMAP2_01834           High       Q9Y4E6      WDR7  KIAA0541; TRAG   \n",
       "7   HuMAP2_03388      Very High       Q9Y485     DMXL1             XL1   \n",
       "8   HuMAP2_03388      Very High       Q9GZN7     ROGDI   None reported   \n",
       "9   HuMAP2_03388      Very High       Q8TDJ6     DMXL2        KIAA0856   \n",
       "10  HuMAP2_03388      Very High       Q9Y4E6      WDR7  KIAA0541; TRAG   \n",
       "\n",
       "                                         protein_name  \\\n",
       "0                               Protein rogdi homolog   \n",
       "1                                  DmX-like protein 2   \n",
       "2   Sodium/potassium-transporting ATPase subunit a...   \n",
       "3                                  DmX-like protein 1   \n",
       "4                               Protein rogdi homolog   \n",
       "5                                  DmX-like protein 2   \n",
       "6                      WD repeat-containing protein 7   \n",
       "7                                  DmX-like protein 1   \n",
       "8                               Protein rogdi homolog   \n",
       "9                                  DmX-like protein 2   \n",
       "10                     WD repeat-containing protein 7   \n",
       "\n",
       "                                              disease  \\\n",
       "0                        Kohlschuetter-Toenz syndrome   \n",
       "1   Polyendocrine-polyneuropathy syndrome; Deafnes...   \n",
       "2   Migraine, familial hemiplegic, 2; Alternating ...   \n",
       "3                                       None reported   \n",
       "4                        Kohlschuetter-Toenz syndrome   \n",
       "5   Polyendocrine-polyneuropathy syndrome; Deafnes...   \n",
       "6                                       None reported   \n",
       "7                                       None reported   \n",
       "8                        Kohlschuetter-Toenz syndrome   \n",
       "9   Polyendocrine-polyneuropathy syndrome; Deafnes...   \n",
       "10                                      None reported   \n",
       "\n",
       "                                        Link  \n",
       "0   https://www.uniprot.org/uniprotkb/Q9GZN7  \n",
       "1   https://www.uniprot.org/uniprotkb/Q8TDJ6  \n",
       "2   https://www.uniprot.org/uniprotkb/P50993  \n",
       "3   https://www.uniprot.org/uniprotkb/Q9Y485  \n",
       "4   https://www.uniprot.org/uniprotkb/Q9GZN7  \n",
       "5   https://www.uniprot.org/uniprotkb/Q8TDJ6  \n",
       "6   https://www.uniprot.org/uniprotkb/Q9Y4E6  \n",
       "7   https://www.uniprot.org/uniprotkb/Q9Y485  \n",
       "8   https://www.uniprot.org/uniprotkb/Q9GZN7  \n",
       "9   https://www.uniprot.org/uniprotkb/Q8TDJ6  \n",
       "10  https://www.uniprot.org/uniprotkb/Q9Y4E6  "
      ]
     },
     "execution_count": 11,
     "metadata": {},
     "output_type": "execute_result"
    }
   ],
   "source": [
    "# USe collected information to enhance the dataframe\n",
    "pn_dict = {k: v['protein_name'] for k, v in lookup_dict.items()}\n",
    "disease_dict = {k: v['disease'] for k, v in lookup_dict.items()}\n",
    "synonyms_dict = {k: v['synonyms'] for k, v in lookup_dict.items()}\n",
    "df_expanded['synonyms'] = df_expanded['Uniprot_ACCs'].map(synonyms_dict)\n",
    "df_expanded['protein_name'] = df_expanded['Uniprot_ACCs'].map(pn_dict)\n",
    "df_expanded['disease'] = df_expanded['Uniprot_ACCs'].map(disease_dict)\n",
    "conf_val2text_dict = {\n",
    "    1: 'Extremely High',\n",
    "    2: 'Very High',\n",
    "    3: 'High',\n",
    "    4: 'Moderate High',\n",
    "    5: 'Medium High',\n",
    "    6: 'Medium'\n",
    "}\n",
    "# Use vectorized mapping to convert confidence values to text\n",
    "df_expanded['Confidence'] = df_expanded['Confidence'].map(conf_val2text_dict)\n",
    "base_uniprot_url = 'https://www.uniprot.org/uniprotkb/'\n",
    "format_str = '{}{}/'\n",
    "df_expanded = df_expanded.assign(Link=base_uniprot_url + df_expanded['Uniprot_ACCs'])\n",
    "df_expanded"
   ]
  },
  {
   "cell_type": "markdown",
   "id": "67e807a3-1edc-4851-9bfa-79659a2102a9",
   "metadata": {},
   "source": [
    "**Note diseases are limited to the first two listed at UniProt.**  \n",
    "The data will be displayed below arranged better so don't worry about studying this output yet. "
   ]
  },
  {
   "cell_type": "markdown",
   "id": "41ea171c-4da2-4920-a9a5-1cdb6037f0df",
   "metadata": {},
   "source": [
    "Saving that as tab-separated data."
   ]
  },
  {
   "cell_type": "code",
   "execution_count": 12,
   "id": "d5f6a150-c697-4353-9291-d2d425dada57",
   "metadata": {},
   "outputs": [],
   "source": [
    "import datetime\n",
    "now = datetime.datetime.now()\n",
    "df_expanded.to_csv(f'{search_term}_complexesHUMAP2{now.strftime(\"_%Y_%m_%d\")}.tsv', sep='\\t',index = False) "
   ]
  },
  {
   "cell_type": "code",
   "execution_count": 13,
   "id": "4e482973-4420-4c9c-a599-dccd80a62d64",
   "metadata": {},
   "outputs": [
    {
     "name": "stdout",
     "output_type": "stream",
     "text": [
      "ROGDI_complexesHUMAP2_2024_11_12.tsv\n"
     ]
    }
   ],
   "source": [
    "ls *_complexesHUMAP2*"
   ]
  },
  {
   "cell_type": "markdown",
   "id": "e3f426a3-4c3f-4ea1-b657-c643974b7257",
   "metadata": {},
   "source": [
    "If you are doing these steps with settings other than the demonstration, you may wish to save that to your local machine as this session is temporary.\n",
    "\n",
    "-------------\n",
    "\n",
    "### Detailing all the complexes nicely\n",
    "\n",
    "Now with that dataframe in hand, we can group them by the individual complex and display each nicely and completely."
   ]
  },
  {
   "cell_type": "code",
   "execution_count": 14,
   "id": "017dcb03-7dba-495f-b4e1-5bb50d00eaf8",
   "metadata": {},
   "outputs": [
    {
     "data": {
      "text/html": [
       "<pre style=\"white-space:pre;overflow-x:auto;line-height:normal;font-family:Menlo,'DejaVu Sans Mono',consolas,'Courier New',monospace\">Complex: <span style=\"color: #000000; text-decoration-color: #000000; font-weight: bold\">HuMAP2_01148</span>   Confidence: <span style=\"color: #000000; text-decoration-color: #000000; font-weight: bold\">Moderate High</span>       Proteins: <span style=\"color: #000000; text-decoration-color: #000000; font-weight: bold\">2</span>\n",
       "</pre>\n"
      ],
      "text/plain": [
       "Complex: \u001b[1;30mHuMAP2_01148\u001b[0m   Confidence: \u001b[1;30mModerate High\u001b[0m       Proteins: \u001b[1;30m2\u001b[0m\n"
      ]
     },
     "metadata": {},
     "output_type": "display_data"
    },
    {
     "data": {
      "text/html": [
       "<div>\n",
       "<style scoped>\n",
       "    .dataframe tbody tr th:only-of-type {\n",
       "        vertical-align: middle;\n",
       "    }\n",
       "\n",
       "    .dataframe tbody tr th {\n",
       "        vertical-align: top;\n",
       "    }\n",
       "\n",
       "    .dataframe thead th {\n",
       "        text-align: right;\n",
       "    }\n",
       "</style>\n",
       "<table border=\"1\" class=\"dataframe\">\n",
       "  <thead>\n",
       "    <tr style=\"text-align: right;\">\n",
       "      <th></th>\n",
       "      <th>genenames</th>\n",
       "      <th>synonyms</th>\n",
       "      <th>protein_name</th>\n",
       "      <th>disease</th>\n",
       "      <th>Link</th>\n",
       "    </tr>\n",
       "  </thead>\n",
       "  <tbody>\n",
       "    <tr>\n",
       "      <th>0</th>\n",
       "      <td>ROGDI</td>\n",
       "      <td>None reported</td>\n",
       "      <td>Protein rogdi homolog</td>\n",
       "      <td>Kohlschuetter-Toenz syndrome</td>\n",
       "      <td>https://www.uniprot.org/uniprotkb/Q9GZN7</td>\n",
       "    </tr>\n",
       "    <tr>\n",
       "      <th>1</th>\n",
       "      <td>DMXL2</td>\n",
       "      <td>KIAA0856</td>\n",
       "      <td>DmX-like protein 2</td>\n",
       "      <td>Polyendocrine-polyneuropathy syndrome; Deafness, autosomal dominant, 71</td>\n",
       "      <td>https://www.uniprot.org/uniprotkb/Q8TDJ6</td>\n",
       "    </tr>\n",
       "  </tbody>\n",
       "</table>\n",
       "</div>"
      ],
      "text/plain": [
       "  genenames       synonyms           protein_name  \\\n",
       "0     ROGDI  None reported  Protein rogdi homolog   \n",
       "1     DMXL2       KIAA0856     DmX-like protein 2   \n",
       "\n",
       "                                                                   disease  \\\n",
       "0                                             Kohlschuetter-Toenz syndrome   \n",
       "1  Polyendocrine-polyneuropathy syndrome; Deafness, autosomal dominant, 71   \n",
       "\n",
       "                                       Link  \n",
       "0  https://www.uniprot.org/uniprotkb/Q9GZN7  \n",
       "1  https://www.uniprot.org/uniprotkb/Q8TDJ6  "
      ]
     },
     "metadata": {},
     "output_type": "display_data"
    },
    {
     "data": {
      "text/html": [
       "<pre style=\"white-space:pre;overflow-x:auto;line-height:normal;font-family:Menlo,'DejaVu Sans Mono',consolas,'Courier New',monospace\">Complex: <span style=\"color: #000000; text-decoration-color: #000000; font-weight: bold\">HuMAP2_01834</span>   Confidence: <span style=\"color: #000000; text-decoration-color: #000000; font-weight: bold\">High</span>        Proteins: <span style=\"color: #000000; text-decoration-color: #000000; font-weight: bold\">5</span>\n",
       "</pre>\n"
      ],
      "text/plain": [
       "Complex: \u001b[1;30mHuMAP2_01834\u001b[0m   Confidence: \u001b[1;30mHigh\u001b[0m        Proteins: \u001b[1;30m5\u001b[0m\n"
      ]
     },
     "metadata": {},
     "output_type": "display_data"
    },
    {
     "data": {
      "text/html": [
       "<div>\n",
       "<style scoped>\n",
       "    .dataframe tbody tr th:only-of-type {\n",
       "        vertical-align: middle;\n",
       "    }\n",
       "\n",
       "    .dataframe tbody tr th {\n",
       "        vertical-align: top;\n",
       "    }\n",
       "\n",
       "    .dataframe thead th {\n",
       "        text-align: right;\n",
       "    }\n",
       "</style>\n",
       "<table border=\"1\" class=\"dataframe\">\n",
       "  <thead>\n",
       "    <tr style=\"text-align: right;\">\n",
       "      <th></th>\n",
       "      <th>genenames</th>\n",
       "      <th>synonyms</th>\n",
       "      <th>protein_name</th>\n",
       "      <th>disease</th>\n",
       "      <th>Link</th>\n",
       "    </tr>\n",
       "  </thead>\n",
       "  <tbody>\n",
       "    <tr>\n",
       "      <th>0</th>\n",
       "      <td>ATP1A2</td>\n",
       "      <td>KIAA0778</td>\n",
       "      <td>Sodium/potassium-transporting ATPase subunit alpha-2</td>\n",
       "      <td>Migraine, familial hemiplegic, 2; Alternating hemiplegia of childhood 1</td>\n",
       "      <td>https://www.uniprot.org/uniprotkb/P50993</td>\n",
       "    </tr>\n",
       "    <tr>\n",
       "      <th>1</th>\n",
       "      <td>DMXL1</td>\n",
       "      <td>XL1</td>\n",
       "      <td>DmX-like protein 1</td>\n",
       "      <td>None reported</td>\n",
       "      <td>https://www.uniprot.org/uniprotkb/Q9Y485</td>\n",
       "    </tr>\n",
       "    <tr>\n",
       "      <th>2</th>\n",
       "      <td>ROGDI</td>\n",
       "      <td>None reported</td>\n",
       "      <td>Protein rogdi homolog</td>\n",
       "      <td>Kohlschuetter-Toenz syndrome</td>\n",
       "      <td>https://www.uniprot.org/uniprotkb/Q9GZN7</td>\n",
       "    </tr>\n",
       "    <tr>\n",
       "      <th>3</th>\n",
       "      <td>DMXL2</td>\n",
       "      <td>KIAA0856</td>\n",
       "      <td>DmX-like protein 2</td>\n",
       "      <td>Polyendocrine-polyneuropathy syndrome; Deafness, autosomal dominant, 71</td>\n",
       "      <td>https://www.uniprot.org/uniprotkb/Q8TDJ6</td>\n",
       "    </tr>\n",
       "    <tr>\n",
       "      <th>4</th>\n",
       "      <td>WDR7</td>\n",
       "      <td>KIAA0541; TRAG</td>\n",
       "      <td>WD repeat-containing protein 7</td>\n",
       "      <td>None reported</td>\n",
       "      <td>https://www.uniprot.org/uniprotkb/Q9Y4E6</td>\n",
       "    </tr>\n",
       "  </tbody>\n",
       "</table>\n",
       "</div>"
      ],
      "text/plain": [
       "  genenames        synonyms  \\\n",
       "0    ATP1A2        KIAA0778   \n",
       "1     DMXL1             XL1   \n",
       "2     ROGDI   None reported   \n",
       "3     DMXL2        KIAA0856   \n",
       "4      WDR7  KIAA0541; TRAG   \n",
       "\n",
       "                                           protein_name  \\\n",
       "0  Sodium/potassium-transporting ATPase subunit alpha-2   \n",
       "1                                    DmX-like protein 1   \n",
       "2                                 Protein rogdi homolog   \n",
       "3                                    DmX-like protein 2   \n",
       "4                        WD repeat-containing protein 7   \n",
       "\n",
       "                                                                   disease  \\\n",
       "0  Migraine, familial hemiplegic, 2; Alternating hemiplegia of childhood 1   \n",
       "1                                                            None reported   \n",
       "2                                             Kohlschuetter-Toenz syndrome   \n",
       "3  Polyendocrine-polyneuropathy syndrome; Deafness, autosomal dominant, 71   \n",
       "4                                                            None reported   \n",
       "\n",
       "                                       Link  \n",
       "0  https://www.uniprot.org/uniprotkb/P50993  \n",
       "1  https://www.uniprot.org/uniprotkb/Q9Y485  \n",
       "2  https://www.uniprot.org/uniprotkb/Q9GZN7  \n",
       "3  https://www.uniprot.org/uniprotkb/Q8TDJ6  \n",
       "4  https://www.uniprot.org/uniprotkb/Q9Y4E6  "
      ]
     },
     "metadata": {},
     "output_type": "display_data"
    },
    {
     "data": {
      "text/html": [
       "<pre style=\"white-space:pre;overflow-x:auto;line-height:normal;font-family:Menlo,'DejaVu Sans Mono',consolas,'Courier New',monospace\">Complex: <span style=\"color: #000000; text-decoration-color: #000000; font-weight: bold\">HuMAP2_03388</span>   Confidence: <span style=\"color: #000000; text-decoration-color: #000000; font-weight: bold\">Very High</span>   Proteins: <span style=\"color: #000000; text-decoration-color: #000000; font-weight: bold\">4</span>\n",
       "</pre>\n"
      ],
      "text/plain": [
       "Complex: \u001b[1;30mHuMAP2_03388\u001b[0m   Confidence: \u001b[1;30mVery High\u001b[0m   Proteins: \u001b[1;30m4\u001b[0m\n"
      ]
     },
     "metadata": {},
     "output_type": "display_data"
    },
    {
     "data": {
      "text/html": [
       "<div>\n",
       "<style scoped>\n",
       "    .dataframe tbody tr th:only-of-type {\n",
       "        vertical-align: middle;\n",
       "    }\n",
       "\n",
       "    .dataframe tbody tr th {\n",
       "        vertical-align: top;\n",
       "    }\n",
       "\n",
       "    .dataframe thead th {\n",
       "        text-align: right;\n",
       "    }\n",
       "</style>\n",
       "<table border=\"1\" class=\"dataframe\">\n",
       "  <thead>\n",
       "    <tr style=\"text-align: right;\">\n",
       "      <th></th>\n",
       "      <th>genenames</th>\n",
       "      <th>synonyms</th>\n",
       "      <th>protein_name</th>\n",
       "      <th>disease</th>\n",
       "      <th>Link</th>\n",
       "    </tr>\n",
       "  </thead>\n",
       "  <tbody>\n",
       "    <tr>\n",
       "      <th>0</th>\n",
       "      <td>DMXL1</td>\n",
       "      <td>XL1</td>\n",
       "      <td>DmX-like protein 1</td>\n",
       "      <td>None reported</td>\n",
       "      <td>https://www.uniprot.org/uniprotkb/Q9Y485</td>\n",
       "    </tr>\n",
       "    <tr>\n",
       "      <th>1</th>\n",
       "      <td>ROGDI</td>\n",
       "      <td>None reported</td>\n",
       "      <td>Protein rogdi homolog</td>\n",
       "      <td>Kohlschuetter-Toenz syndrome</td>\n",
       "      <td>https://www.uniprot.org/uniprotkb/Q9GZN7</td>\n",
       "    </tr>\n",
       "    <tr>\n",
       "      <th>2</th>\n",
       "      <td>DMXL2</td>\n",
       "      <td>KIAA0856</td>\n",
       "      <td>DmX-like protein 2</td>\n",
       "      <td>Polyendocrine-polyneuropathy syndrome; Deafness, autosomal dominant, 71</td>\n",
       "      <td>https://www.uniprot.org/uniprotkb/Q8TDJ6</td>\n",
       "    </tr>\n",
       "    <tr>\n",
       "      <th>3</th>\n",
       "      <td>WDR7</td>\n",
       "      <td>KIAA0541; TRAG</td>\n",
       "      <td>WD repeat-containing protein 7</td>\n",
       "      <td>None reported</td>\n",
       "      <td>https://www.uniprot.org/uniprotkb/Q9Y4E6</td>\n",
       "    </tr>\n",
       "  </tbody>\n",
       "</table>\n",
       "</div>"
      ],
      "text/plain": [
       "  genenames        synonyms                    protein_name  \\\n",
       "0     DMXL1             XL1              DmX-like protein 1   \n",
       "1     ROGDI   None reported           Protein rogdi homolog   \n",
       "2     DMXL2        KIAA0856              DmX-like protein 2   \n",
       "3      WDR7  KIAA0541; TRAG  WD repeat-containing protein 7   \n",
       "\n",
       "                                                                   disease  \\\n",
       "0                                                            None reported   \n",
       "1                                             Kohlschuetter-Toenz syndrome   \n",
       "2  Polyendocrine-polyneuropathy syndrome; Deafness, autosomal dominant, 71   \n",
       "3                                                            None reported   \n",
       "\n",
       "                                       Link  \n",
       "0  https://www.uniprot.org/uniprotkb/Q9Y485  \n",
       "1  https://www.uniprot.org/uniprotkb/Q9GZN7  \n",
       "2  https://www.uniprot.org/uniprotkb/Q8TDJ6  \n",
       "3  https://www.uniprot.org/uniprotkb/Q9Y4E6  "
      ]
     },
     "metadata": {},
     "output_type": "display_data"
    }
   ],
   "source": [
    "grouped = df_expanded.groupby(['HuMAP2_ID','Confidence'])\n",
    "import datetime\n",
    "now = datetime.datetime.now()\n",
    "for complex, grouped_df in grouped:\n",
    "    import rich\n",
    "    rich.print(f\"Complex: [bold black]{complex[0]}[/bold black]\\tConfidence: [bold black]{complex[1]}[/bold black]\\tProteins: [bold black]{len(grouped_df)}[/bold black]\")\n",
    "    with pd.option_context('display.max_rows', None, 'display.max_columns', None, 'display.max_colwidth', None):\n",
    "        display(grouped_df [grouped_df .columns[3:]].reset_index(drop=True))\n",
    "        grouped_df.to_csv(f'{complex[0]}_{search_term}_complx_CONF_{\"_\".join(complex[1].split())}_{len(grouped_df)}_proteins{now.strftime(\"_%Y_%m_%d\")}.tsv', sep='\\t',index = False) "
   ]
  },
  {
   "cell_type": "markdown",
   "id": "f4691def-bef6-46f3-a4c3-a36f91162b89",
   "metadata": {},
   "source": [
    "**Keep in mind the disease entries are limited to the first two listed at UniProt.** \n",
    "\n",
    "These have been saved as tab-separated data. You may wish to download them, although the same information is already present in the prior saved tab-sepaarated data."
   ]
  },
  {
   "cell_type": "code",
   "execution_count": 15,
   "id": "89e2f7f8-30af-4be5-a205-b255e03d0c55",
   "metadata": {},
   "outputs": [
    {
     "name": "stdout",
     "output_type": "stream",
     "text": [
      "HuMAP2_01148_ROGDI_complx_CONF_Moderate_High_2_proteins_2024_11_12.tsv\n",
      "HuMAP2_01834_ROGDI_complx_CONF_High_5_proteins_2024_11_12.tsv\n",
      "HuMAP2_03388_ROGDI_complx_CONF_Very_High_4_proteins_2024_11_12.tsv\n"
     ]
    }
   ],
   "source": [
    "ls *complx_CONF_*"
   ]
  },
  {
   "cell_type": "markdown",
   "id": "644ff8cd-0577-494a-a971-45c1596e7e2c",
   "metadata": {},
   "source": [
    "However, you might be admiring the output above concerning each complex and wish you didn't have to deal with Jupyter to see that. Or want to share that with someone or print it out separate from this notebook.  \n",
    "Running the next cell will make an HTML file that will make that easier:"
   ]
  },
  {
   "cell_type": "code",
   "execution_count": 16,
   "id": "904d2114-b30a-4af8-8806-33399905d73f",
   "metadata": {},
   "outputs": [
    {
     "name": "stdout",
     "output_type": "stream",
     "text": [
      "Writing 'collected_html' (str) to file 'ROGDI_individ_complexes_details_2024_11_12.html'.\n"
     ]
    }
   ],
   "source": [
    "def getTableHTML(df):\n",
    "    \"\"\"\n",
    "    From https://stackoverflow.com/a/49687866/2007153\n",
    "    \n",
    "    Get a Jupyter like html of pandas dataframe with header underline (except index)\n",
    "    \"\"\"\n",
    "    styles = [\n",
    "        #table properties\n",
    "        dict(selector=\" \", \n",
    "             props=[(\"margin\",\"0\"),\n",
    "                    (\"font-family\",'\"Helvetica\", \"Arial\", sans-serif'),\n",
    "                    (\"border-collapse\", \"collapse\"),\n",
    "                    (\"border\",\"none\")]),\n",
    "        #background shading\n",
    "        dict(selector=\"tbody tr:nth-child(even)\",\n",
    "             props=[(\"background-color\", \"#f4f4f4\")]), # TO SHOW IT IS BEING USED AND NOT NORMAL PANDAS COLORING, change this from `#eee` to `#fee` # to add reddish tinge\n",
    "        dict(selector=\"tbody tr:nth-child(odd)\",\n",
    "             props=[(\"background-color\", \"#fff\")]),  \n",
    "        #cell spacing\n",
    "        dict(selector=\"td\", \n",
    "             props=[(\"padding\", \".5em\")]),\n",
    "        #header cell properties (excluding index)\n",
    "        dict(selector=\"thead th:not(:first-child)\", \n",
    "             props=[(\"font-size\", \"80%\"),\n",
    "                    (\"text-align\", \"center\"),\n",
    "                    (\"border-bottom\", \"2px solid #666\"),\n",
    "                    (\"padding\", \".5em\")]),\n",
    "        #index header cell properties (no border)\n",
    "        dict(selector=\"thead th:first-child\", \n",
    "             props=[(\"font-size\", \"80%\"),\n",
    "                    (\"text-align\", \"center\"),\n",
    "                    (\"padding\", \".5em\")]),\n",
    "    ]\n",
    "    return (df.style.set_table_styles(styles)).to_html()\n",
    "collected_html = \"\"\n",
    "for complex, grouped_df in grouped:\n",
    "    collected_html += (f\"Complex: <strong>{complex[0]}</strong>&emsp;Confidence: <strong>{complex[1]}</strong>&emsp;Proteins: <strong>{len(grouped_df)}</strong></br>\")\n",
    "    with pd.option_context('display.max_rows', None, 'display.max_columns', None, 'display.max_colwidth', None):\n",
    "        #display(grouped_df [grouped_df .columns[3:]].reset_index(drop=True))\n",
    "        collected_html += getTableHTML(grouped_df)\n",
    "        collected_html += \"</br></br></br>\"\n",
    "collected_html_fn = f'{search_term}_individ_complexes_details{now.strftime(\"_%Y_%m_%d\")}.html'\n",
    "%store collected_html >{collected_html_fn}"
   ]
  },
  {
   "cell_type": "markdown",
   "id": "7a071dd2-284a-4f8a-96e6-3e0e1bd41d85",
   "metadata": {},
   "source": [
    "Download that file so you can then share that HTML file and tell the recipient to open it with a browser. Or if you prefer a PDF, after downloading it to your own machine, open it in your browser and print to PDF. (**TIP**: when using `'File'` > `'Print'` for printing to a PDF on a Mac, toggle on '`Background graphics`' to get the nice shading you see in the HTML file; to find '`Background graphics`', in the Print Dialog box, click the drop-down for '`More Settings`' to reveal at the bottom '`Options`'  with '`Background graphics`' to the right of it.)"
   ]
  },
  {
   "cell_type": "markdown",
   "id": "59895a6a-7347-4a85-8092-d22a9fc43954",
   "metadata": {},
   "source": [
    "-----\n",
    "\n",
    "### 'Adjacent-complex' proteins?\n",
    "\n",
    "What can be done to scale up and go beyond just what complexes your favorite protein occurs in starts revealing the power of having this in conjunction with Python use?\n",
    "\n",
    "We have a list of proteins our favorite protein is known to occur with in the complexes, i.e. 'complexed proteins'. What if we then go out another layer and collect all the complexes those 'complexed proteins' are in and highlight any new proteins represented? This would build a list of those proteins that share a complex protein but aren't in the query's protein complex.  This would build up a network of interactions our favorite protein may be involved in directly influencing.\n",
    "\n",
    "So how do we get a list of 'Adjacent-complex' proteins observed in the complexes in the data? This is meant to show with Python, such a thing is easy and quick.\n",
    "\n",
    "First, we define two groups. One is those we want to skip looking into further, with the query protein from above being top of the list. (You can further modify the `skip_proteins` one as you see fit.) We also need to collect all the other proteins to use to start collecting the proteins that interact with those. Since we left the query protein in or list above, we need to be sure to filter that out, that is where the first list also comes in. "
   ]
  },
  {
   "cell_type": "code",
   "execution_count": 17,
   "id": "25ec8d3a-d836-4c78-bfc9-982bc8a41c4e",
   "metadata": {},
   "outputs": [],
   "source": [
    "skip_proteins = [search_term] # you can put any other genenames or accession after\n",
    "# that in quotes to also skip those for example: `skip_proteins = [search_term, 'ATP6V0A4']`\n",
    "# They idea being to leave out any you expect to make it easier to clue in on any new."
   ]
  },
  {
   "cell_type": "code",
   "execution_count": 18,
   "id": "b3e26091-bd6f-46f7-b88e-594856494b61",
   "metadata": {},
   "outputs": [],
   "source": [
    "ptuples = [(row['Uniprot_ACCs'], row['genenames']) for index, row in df_expanded.iterrows()]\n",
    "unique_ptuples = list(set(ptuples))\n",
    "# skip any in the `skip_proteins` list\n",
    "unique_ptuples = [ptuple for ptuple in ptuples if all(element not in skip_proteins for element in ptuple)]"
   ]
  },
  {
   "cell_type": "markdown",
   "id": "7d356d05-42b9-429d-ab0d-c82367384912",
   "metadata": {},
   "source": [
    "Now with those two lists in hand, go through those and collect the proteins shared in the complexes those we observed complexed with our query protein and see if any new ones come up."
   ]
  },
  {
   "cell_type": "code",
   "execution_count": 19,
   "id": "f34e3ac3-5423-4f22-93fe-26210ee2eb4a",
   "metadata": {},
   "outputs": [],
   "source": [
    "# run the query on each collecting all proteins it occurs with and removing any already in skip_proteins or those in the complexes directly with the query protein\n",
    "rd_df = pd.read_pickle('raw_complexes_pickled_df.pkl') # make sure in memory\n",
    "adjacent_proteins_dfs = []\n",
    "for current_acc, pn in unique_ptuples:\n",
    "    pattern = fr'\\b{current_acc}\\b' # Create a regex pattern with word boundaries\n",
    "    rows_with_term_df = rd_df[rd_df['Uniprot_ACCs'].str.contains(pattern, case=False, regex=True)].copy()\n",
    "    # explode these to be entries per row\n",
    "    # to prepare to use pandas `explode()` to do that, first make the content in be lists\n",
    "    rows_with_term_df['Uniprot_ACCs'] = rows_with_term_df['Uniprot_ACCs'].str.split()\n",
    "    rows_with_term_df['genenames'] = rows_with_term_df['genenames'].str.split()\n",
    "    # Now use explode to create a new row for each element in both columns\n",
    "    df_expanded2 = rows_with_term_df.explode(['Uniprot_ACCs', 'genenames']).copy()\n",
    "    # Reset the index \n",
    "    df_expanded2 = df_expanded2.reset_index(drop=True)\n",
    "    #remove those that are in `skip_proteins` list or already in the ptuples\n",
    "    accs_in_ptuples = [i[0] for i in unique_ptuples]\n",
    "    new_partners_df = df_expanded2[~df_expanded2['Uniprot_ACCs'].isin(accs_in_ptuples)]\n",
    "    new_partners_df = new_partners_df[~new_partners_df['Uniprot_ACCs'].isin(skip_proteins)]\n",
    "    new_partners_df = new_partners_df[~new_partners_df['genenames'].isin(skip_proteins)]\n",
    "    adjacent_proteins_dfs.append(new_partners_df)\n",
    "if adjacent_proteins_dfs:\n",
    "    final_new_partners_df = pd.concat(adjacent_proteins_dfs, ignore_index=True)\n",
    "else:\n",
    "    rich.print(\"Nothing 'adjacent' identified.\")"
   ]
  },
  {
   "cell_type": "code",
   "execution_count": 20,
   "id": "84a6b888-f736-470f-9571-4878abf4b81f",
   "metadata": {},
   "outputs": [
    {
     "data": {
      "text/html": [
       "<pre style=\"white-space:pre;overflow-x:auto;line-height:normal;font-family:Menlo,'DejaVu Sans Mono',consolas,'Courier New',monospace\">\n",
       "<span style=\"color: #000000; text-decoration-color: #000000; font-weight: bold\">THE </span><span style=\"color: #000000; text-decoration-color: #000000; font-weight: bold\">4</span><span style=\"color: #000000; text-decoration-color: #000000; font-weight: bold\"> PROTEINS THAT AREN'T IN </span><span style=\"color: #000000; text-decoration-color: #000000; font-weight: bold\">'ROGDI'</span><span style=\"color: #000000; text-decoration-color: #000000; font-weight: bold\"> COMPLEXES THAT ARE</span>\n",
       "<span style=\"color: #000000; text-decoration-color: #000000; font-weight: bold\">OBSERVED IN OTHER COMPLEXES WITH PROTEINS FOUND IN </span><span style=\"color: #000000; text-decoration-color: #000000; font-weight: bold\">'ROGDI'</span><span style=\"color: #000000; text-decoration-color: #000000; font-weight: bold\"> COMPLEXES:</span>\n",
       "\n",
       "</pre>\n"
      ],
      "text/plain": [
       "\n",
       "\u001b[1;30mTHE \u001b[0m\u001b[1;30m4\u001b[0m\u001b[1;30m PROTEINS THAT AREN'T IN \u001b[0m\u001b[1;30m'ROGDI'\u001b[0m\u001b[1;30m COMPLEXES THAT ARE\u001b[0m\n",
       "\u001b[1;30mOBSERVED IN OTHER COMPLEXES WITH PROTEINS FOUND IN \u001b[0m\u001b[1;30m'ROGDI'\u001b[0m\u001b[1;30m COMPLEXES:\u001b[0m\n",
       "\n"
      ]
     },
     "metadata": {},
     "output_type": "display_data"
    },
    {
     "data": {
      "text/html": [
       "<style type=\"text/css\">\n",
       "</style>\n",
       "<table id=\"T_a5ccb\">\n",
       "  <thead>\n",
       "    <tr>\n",
       "      <th id=\"T_a5ccb_level0_col0\" class=\"col_heading level0 col0\" >Uniprot_ACCs</th>\n",
       "      <th id=\"T_a5ccb_level0_col1\" class=\"col_heading level0 col1\" >genenames</th>\n",
       "    </tr>\n",
       "  </thead>\n",
       "  <tbody>\n",
       "    <tr>\n",
       "      <td id=\"T_a5ccb_row0_col0\" class=\"data row0 col0\" >Q13733</td>\n",
       "      <td id=\"T_a5ccb_row0_col1\" class=\"data row0 col1\" >ATP1A4</td>\n",
       "    </tr>\n",
       "    <tr>\n",
       "      <td id=\"T_a5ccb_row1_col0\" class=\"data row1 col0\" >Q9BYI3</td>\n",
       "      <td id=\"T_a5ccb_row1_col1\" class=\"data row1 col1\" >HYCC1</td>\n",
       "    </tr>\n",
       "    <tr>\n",
       "      <td id=\"T_a5ccb_row2_col0\" class=\"data row2 col0\" >Q5VV41</td>\n",
       "      <td id=\"T_a5ccb_row2_col1\" class=\"data row2 col1\" >ARHGEF16</td>\n",
       "    </tr>\n",
       "    <tr>\n",
       "      <td id=\"T_a5ccb_row3_col0\" class=\"data row3 col0\" >Q86VZ1</td>\n",
       "      <td id=\"T_a5ccb_row3_col1\" class=\"data row3 col1\" >P2RY8</td>\n",
       "    </tr>\n",
       "  </tbody>\n",
       "</table>\n"
      ],
      "text/plain": [
       "<pandas.io.formats.style.Styler at 0x7ff2a9a23b80>"
      ]
     },
     "metadata": {},
     "output_type": "display_data"
    }
   ],
   "source": [
    "try:\n",
    "    list_all_associated_adj_name_tuples = []\n",
    "    for row in final_new_partners_df.itertuples():\n",
    "        #print(row)\n",
    "        list_all_associated_adj_name_tuples.extend((item1, item2) for item1, item2 in zip(row.Uniprot_ACCs.split(), row.genenames.split()))\n",
    "    adj_df = pd.DataFrame(set(list_all_associated_adj_name_tuples), columns=['Uniprot_ACCs', 'genenames'])\n",
    "    import rich\n",
    "    rich.print(f\"\\n[bold black]THE {len(adj_df)} PROTEINS THAT AREN'T IN '{search_term}' COMPLEXES THAT ARE\\nOBSERVED IN OTHER COMPLEXES WITH PROTEINS FOUND IN '{search_term}' COMPLEXES:[/bold black]\\n\")\n",
    "    with pd.option_context('display.max_rows', None, 'display.max_columns', None):\n",
    "        display(adj_df.style.hide())\n",
    "except NameError:\n",
    "    rich.print(\"Likely, nothing 'adjacent' identified; see above cell.\")"
   ]
  },
  {
   "cell_type": "markdown",
   "id": "26d0d075-b600-47ab-af04-4eac29385a0c",
   "metadata": {},
   "source": [
    "--------\n",
    "\n",
    "Enjoy!\n",
    "\n",
    "While you could edit the search term above and start analyzing the data for a protein of interest, it is unlikely you are interested in just one proteins. Therefore it is suggested that first you continue on with next notebook in this series because it makes it clear how to programmatically do that for more than one protein and bundles the collected data for easy download, see 'Available Notebooks' listed [here](../index.ipynb). Or click [here to open the next notebook in this series](Making_many_hu.MAP3_reports_easily_using_Snakemake.ipynb).\n",
    "\n",
    "See my [humap2-binder repo](https://github.com/fomightez/humap2-binder), my [humap3-binder repo](https://github.com/fomightez/humap3-binder), and [humap3-utilities](https://github.com/fomightez/structurework/humap3-utilities) for related information & resources for this notebook."
   ]
  }
 ],
 "metadata": {
  "kernelspec": {
   "display_name": "Python 3 (ipykernel)",
   "language": "python",
   "name": "python3"
  },
  "language_info": {
   "codemirror_mode": {
    "name": "ipython",
    "version": 3
   },
   "file_extension": ".py",
   "mimetype": "text/x-python",
   "name": "python",
   "nbconvert_exporter": "python",
   "pygments_lexer": "ipython3",
   "version": "3.10.14"
  }
 },
 "nbformat": 4,
 "nbformat_minor": 5
}
