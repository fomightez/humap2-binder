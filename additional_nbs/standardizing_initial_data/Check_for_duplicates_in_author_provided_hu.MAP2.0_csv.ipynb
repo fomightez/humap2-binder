{
 "cells": [
  {
   "cell_type": "markdown",
   "id": "6765dab3-c001-4a71-9c39-87f40833bdb3",
   "metadata": {},
   "source": [
    "### Checking for duplicates in the two main columns of hu.MAP 2.0 CSV\n",
    "\n",
    "I observed some duplicates in the `Uniprot_ACCs` & `genenames` columns in the **raw** hu.MAP 2.0 data provided by authors and I thought I'd check how prevalent.\n",
    "\n",
    "------"
   ]
  },
  {
   "cell_type": "markdown",
   "id": "2eee8d3f-70ef-444a-b932-c7a092bc0ac3",
   "metadata": {},
   "source": [
    "#### Preparation"
   ]
  },
  {
   "cell_type": "markdown",
   "id": "4955a5ee-dfc5-49ab-b173-dc6ae50ae59f",
   "metadata": {},
   "source": [
    "##### Get the complexes with confidence scores\n",
    "\n",
    "Because the author-provided source didn't work for the hu.MAP 3.0 data, I expected `curl -OL \"http://humap2.proteincomplexes.org/static/downloads/humap2/humap2_complexes_20200809.txt\"` to work on my local machine, yet fail on MyBinder because the involved port may be blocked on MyBinder for getting it from the original resource. Because of that expectation, I made a copy at https://gist.githubusercontent.com/fomightez/af3edda957e4d71acbaa30192e74e9af/raw/108a8c3fb3374a74ef3ca5d772a9dfe96e996c93/humap2_complexes_20200809.txt where MyBinder would have access. However, the curl of the original source works!! \n",
    "(Keeping a note about my copy now but using original sourc"
   ]
  },
  {
   "cell_type": "code",
   "execution_count": 1,
   "id": "c80a36fc-fbb5-4980-aea5-25872d5aeb33",
   "metadata": {},
   "outputs": [
    {
     "name": "stdout",
     "output_type": "stream",
     "text": [
      "  % Total    % Received % Xferd  Average Speed   Time    Time     Time  Current\n",
      "                                 Dload  Upload   Total   Spent    Left  Speed\n",
      "100  500k  100  500k    0     0   449k      0  0:00:01  0:00:01 --:--:--  449k\n"
     ]
    }
   ],
   "source": [
    "!curl -OL \"http://humap2.proteincomplexes.org/static/downloads/humap2/humap2_complexes_20200809.txt\"\n",
    "# If that fails, uncomment & try the next line which will be guaranteed to work with MyBinder:\n",
    "#!curl -OL https://gist.githubusercontent.com/fomightez/af3edda957e4d71acbaa30192e74e9af/raw/108a8c3fb3374a74ef3ca5d772a9dfe96e996c93/humap2_complexes_20200809.txt"
   ]
  },
  {
   "cell_type": "markdown",
   "id": "6bcf301a-75c8-4faa-9c2e-028d7cb4bc55",
   "metadata": {},
   "source": [
    "##### Put the data on the complexes into Pandas dataframe\n",
    "\n",
    "(I'm using uv here just because I want to learn about it. I could have run the code in the script right in this notebook, and skipped the pickling and read pickle steps.)"
   ]
  },
  {
   "cell_type": "markdown",
   "id": "3a6e10f2-2228-4d44-a27b-cf93aa431e8b",
   "metadata": {},
   "source": [
    "Get the script to use with `uv` to read in the raw data and make a dataframe."
   ]
  },
  {
   "cell_type": "code",
   "execution_count": 2,
   "id": "fa6f2f0f-2231-4d35-b5c7-08d89d5aed2d",
   "metadata": {},
   "outputs": [
    {
     "name": "stdout",
     "output_type": "stream",
     "text": [
      "  % Total    % Received % Xferd  Average Speed   Time    Time     Time  Current\n",
      "                                 Dload  Upload   Total   Spent    Left  Speed\n",
      "100  1007  100  1007    0     0   4499      0 --:--:-- --:--:-- --:--:--  4495\n"
     ]
    }
   ],
   "source": [
    "!curl -OL https://raw.githubusercontent.com/fomightez/structurework/refs/heads/master/humap3-utilities/complexes_rawCSV_to_df.py"
   ]
  },
  {
   "cell_type": "code",
   "execution_count": 5,
   "id": "faf15ae5-dcc7-4ca2-91a0-e1087c915791",
   "metadata": {},
   "outputs": [
    {
     "name": "stdout",
     "output_type": "stream",
     "text": [
      "Reading inline script metadata from `\u001b[36mcomplexes_rawCSV_to_df.py\u001b[39m`\n",
      "\u001b[2K\u001b[37m⠙\u001b[0m \u001b[2m                                                                              \u001b[0m"
     ]
    },
    {
     "data": {
      "text/html": [
       "<div>\n",
       "<style scoped>\n",
       "    .dataframe tbody tr th:only-of-type {\n",
       "        vertical-align: middle;\n",
       "    }\n",
       "\n",
       "    .dataframe tbody tr th {\n",
       "        vertical-align: top;\n",
       "    }\n",
       "\n",
       "    .dataframe thead th {\n",
       "        text-align: right;\n",
       "    }\n",
       "</style>\n",
       "<table border=\"1\" class=\"dataframe\">\n",
       "  <thead>\n",
       "    <tr style=\"text-align: right;\">\n",
       "      <th></th>\n",
       "      <th>HuMAP2_ID</th>\n",
       "      <th>Confidence</th>\n",
       "      <th>Uniprot_ACCs</th>\n",
       "      <th>genenames</th>\n",
       "    </tr>\n",
       "  </thead>\n",
       "  <tbody>\n",
       "    <tr>\n",
       "      <th>0</th>\n",
       "      <td>HuMAP2_00000</td>\n",
       "      <td>3</td>\n",
       "      <td>Q9BQS8 O95900</td>\n",
       "      <td>FYCO1 TRUB2</td>\n",
       "    </tr>\n",
       "    <tr>\n",
       "      <th>1</th>\n",
       "      <td>HuMAP2_00001</td>\n",
       "      <td>4</td>\n",
       "      <td>P08133 Q15797 Q99426 Q9H4M9 P68402 Q15102</td>\n",
       "      <td>ANXA6 SMAD1 TBCB EHD1 PAFAH1B2 PAFAH1B3</td>\n",
       "    </tr>\n",
       "    <tr>\n",
       "      <th>2</th>\n",
       "      <td>HuMAP2_00002</td>\n",
       "      <td>5</td>\n",
       "      <td>Q93062 Q9NZC3 Q9UF11 Q15038 Q6ZRY4 A1KXE4 O432...</td>\n",
       "      <td>RBPMS GDE1 PLEKHB1 DAZAP2 RBPMS2 FAM168B RBFOX...</td>\n",
       "    </tr>\n",
       "    <tr>\n",
       "      <th>3</th>\n",
       "      <td>HuMAP2_00003</td>\n",
       "      <td>5</td>\n",
       "      <td>Q15836 Q16563 Q29983 Q8WUM9 O14974 Q9Y5Y0 Q149...</td>\n",
       "      <td>VAMP3 SYPL1 MICA SLC20A1 PPP1R12A FLVCR1 DRAP1...</td>\n",
       "    </tr>\n",
       "    <tr>\n",
       "      <th>4</th>\n",
       "      <td>HuMAP2_00004</td>\n",
       "      <td>4</td>\n",
       "      <td>Q8WV99 Q9NQT8 Q9H672 P20774 Q49A92</td>\n",
       "      <td>ZFAND2B KIF13B ASB7 OGN C8orf34</td>\n",
       "    </tr>\n",
       "    <tr>\n",
       "      <th>...</th>\n",
       "      <td>...</td>\n",
       "      <td>...</td>\n",
       "      <td>...</td>\n",
       "      <td>...</td>\n",
       "    </tr>\n",
       "    <tr>\n",
       "      <th>6960</th>\n",
       "      <td>HuMAP2_07014</td>\n",
       "      <td>4</td>\n",
       "      <td>Q9HC97 Q92871 Q6S8J3 P13727 P31152</td>\n",
       "      <td>GPR35 PMM1 POTEE PRG2 MAPK4</td>\n",
       "    </tr>\n",
       "    <tr>\n",
       "      <th>6961</th>\n",
       "      <td>HuMAP2_07015</td>\n",
       "      <td>4</td>\n",
       "      <td>Q9H5L6 Q8N5N7 Q96E29 O75127 Q9NPE2 Q96I51</td>\n",
       "      <td>THAP9 MRPL50 MTERF3 PTCD1 NGRN RCC1L</td>\n",
       "    </tr>\n",
       "    <tr>\n",
       "      <th>6962</th>\n",
       "      <td>HuMAP2_07016</td>\n",
       "      <td>5</td>\n",
       "      <td>Q99697 Q8NE31 P17509 P31274 Q2T9J0 Q8TAC2 P529...</td>\n",
       "      <td>PITX2 FAM13C HOXB6 HOXC9 TYSND1 JOSD2 NKX2-5 D...</td>\n",
       "    </tr>\n",
       "    <tr>\n",
       "      <th>6963</th>\n",
       "      <td>HuMAP2_07017</td>\n",
       "      <td>2</td>\n",
       "      <td>Q53GT1 Q96GP6 P49448</td>\n",
       "      <td>KLHL22 SCARF2 GLUD2</td>\n",
       "    </tr>\n",
       "    <tr>\n",
       "      <th>6964</th>\n",
       "      <td>HuMAP2_07018</td>\n",
       "      <td>2</td>\n",
       "      <td>Q86US8 Q2NKX9 Q9Y223</td>\n",
       "      <td>SMG6 C2orf68 GNE</td>\n",
       "    </tr>\n",
       "  </tbody>\n",
       "</table>\n",
       "<p>6965 rows × 4 columns</p>\n",
       "</div>"
      ],
      "text/plain": [
       "         HuMAP2_ID  Confidence  \\\n",
       "0     HuMAP2_00000           3   \n",
       "1     HuMAP2_00001           4   \n",
       "2     HuMAP2_00002           5   \n",
       "3     HuMAP2_00003           5   \n",
       "4     HuMAP2_00004           4   \n",
       "...            ...         ...   \n",
       "6960  HuMAP2_07014           4   \n",
       "6961  HuMAP2_07015           4   \n",
       "6962  HuMAP2_07016           5   \n",
       "6963  HuMAP2_07017           2   \n",
       "6964  HuMAP2_07018           2   \n",
       "\n",
       "                                           Uniprot_ACCs  \\\n",
       "0                                         Q9BQS8 O95900   \n",
       "1             P08133 Q15797 Q99426 Q9H4M9 P68402 Q15102   \n",
       "2     Q93062 Q9NZC3 Q9UF11 Q15038 Q6ZRY4 A1KXE4 O432...   \n",
       "3     Q15836 Q16563 Q29983 Q8WUM9 O14974 Q9Y5Y0 Q149...   \n",
       "4                    Q8WV99 Q9NQT8 Q9H672 P20774 Q49A92   \n",
       "...                                                 ...   \n",
       "6960                 Q9HC97 Q92871 Q6S8J3 P13727 P31152   \n",
       "6961          Q9H5L6 Q8N5N7 Q96E29 O75127 Q9NPE2 Q96I51   \n",
       "6962  Q99697 Q8NE31 P17509 P31274 Q2T9J0 Q8TAC2 P529...   \n",
       "6963                               Q53GT1 Q96GP6 P49448   \n",
       "6964                               Q86US8 Q2NKX9 Q9Y223   \n",
       "\n",
       "                                              genenames  \n",
       "0                                           FYCO1 TRUB2  \n",
       "1               ANXA6 SMAD1 TBCB EHD1 PAFAH1B2 PAFAH1B3  \n",
       "2     RBPMS GDE1 PLEKHB1 DAZAP2 RBPMS2 FAM168B RBFOX...  \n",
       "3     VAMP3 SYPL1 MICA SLC20A1 PPP1R12A FLVCR1 DRAP1...  \n",
       "4                       ZFAND2B KIF13B ASB7 OGN C8orf34  \n",
       "...                                                 ...  \n",
       "6960                        GPR35 PMM1 POTEE PRG2 MAPK4  \n",
       "6961               THAP9 MRPL50 MTERF3 PTCD1 NGRN RCC1L  \n",
       "6962  PITX2 FAM13C HOXB6 HOXC9 TYSND1 JOSD2 NKX2-5 D...  \n",
       "6963                                KLHL22 SCARF2 GLUD2  \n",
       "6964                                   SMG6 C2orf68 GNE  \n",
       "\n",
       "[6965 rows x 4 columns]"
      ]
     },
     "execution_count": 5,
     "metadata": {},
     "output_type": "execute_result"
    }
   ],
   "source": [
    "!uv run complexes_rawCSV_to_df.py humap2_complexes_20200809.txt\n",
    "import pandas as pd\n",
    "rd_df = pd.read_pickle('raw_complexes_pickled_df.pkl')\n",
    "rd_df"
   ]
  },
  {
   "cell_type": "markdown",
   "id": "c21e55a6-7064-430a-bacd-c9fbb7d2f9fe",
   "metadata": {},
   "source": [
    "That's a lot of complexes!\n",
    "\n",
    "--------"
   ]
  },
  {
   "cell_type": "markdown",
   "id": "b6663f04-1483-4e58-9692-84abffbeecfe",
   "metadata": {},
   "source": [
    "### Now to check for duplicates"
   ]
  },
  {
   "cell_type": "code",
   "execution_count": 7,
   "id": "2f3a0227-c905-4572-97e4-613e396f0f4c",
   "metadata": {},
   "outputs": [
    {
     "name": "stdout",
     "output_type": "stream",
     "text": [
      "`Q9P2F5 Q9GZY0 O14640 O14641 Q9GZY0` displays duplicates.\n",
      "`STOX2 NXF2 DVL1 DVL2 NXF2` displays duplicates.\n",
      "`P47929 P47929` displays duplicates.\n",
      "`LGALS7 LGALS7` displays duplicates.\n",
      "` P22392 O00746 Q13232 P22392 Q9H4I3` displays duplicates.\n",
      "`NME2P1 NME2 NME4 NME3 NME2 TRABD` displays duplicates.\n",
      "`Q9GZY0 Q9GZY0` displays duplicates.\n",
      "`NXF2 NXF2` displays duplicates.\n",
      "`Q6P1K8 Q6P1K8 Q03393` displays duplicates.\n",
      "`GTF2H2C GTF2H2C PTS` displays duplicates.\n",
      "`Q9Y3F4 P08621 O75534 Q9P2G9 Q7Z422 Q9H840 Q9BRS8 O14893 Q9H9B4 Q9NWZ8 O43353 Q8WXD5 P57678 Q16637 Q16637 Q9H3H3 Q9UHI6 Q9P2E3 P83369 Q8TEQ6` displays duplicates.\n",
      "`STRAP SNRNP70 CSDE1 KLHL8 SZRD1 GEMIN7 LARP6 GEMIN2 SFXN1 GEMIN8 RIPK2 GEMIN6 GEMIN4 SMN1 SMN1 C11orf68 DDX20 ZNFX1 LSM11 GEMIN5` displays duplicates.\n",
      "`P0DML3 P01241 P0DML3` displays duplicates.\n",
      "`CSH2 GH1 CSH2` displays duplicates.\n",
      "`Q8IWZ3 P43355 O15480 O75179 Q8IWZ3` displays duplicates.\n",
      "`ANKHD1 MAGEA1 MAGEB3 ANKRD17 ANKHD1` displays duplicates.\n",
      "`P59665 P18065 Q8N8U9 P59665` displays duplicates.\n",
      "`DEFA1 IGFBP2 BMPER DEFA1` displays duplicates.\n",
      "`Q9H081 O14777 Q6P1K2 Q9H410 Q8NG31 Q9HBM1 Q6P1K2 Q8NBT2 O95229 Q96IY1 Q9BZD4` displays duplicates.\n",
      "`MIS12 NDC80 PMF1 DSN1 KNL1 SPC25 PMF1 SPC24 ZWINT NSL1 NUF2` displays duplicates.\n",
      "`P59665 P59665` displays duplicates.\n",
      "`DEFA1 DEFA1` displays duplicates.\n",
      "`Q9H840 O14893 Q9NWZ8 Q8WXD5 P57678 Q16637 Q16637 Q9UHI6 P83369 Q8TEQ6` displays duplicates.\n",
      "`GEMIN7 GEMIN2 GEMIN8 GEMIN6 GEMIN4 SMN1 SMN1 DDX20 LSM11 GEMIN5` displays duplicates.\n",
      "`Q9HC52 Q5VUG0 Q06587 P35227 Q96GD3 O95931 P78364 Q99496 Q14781 P35226 Q8IXK0 Q8NDX5 P35226 O00257` displays duplicates.\n",
      "`CBX8 SFMBT2 RING1 PCGF2 SCMH1 CBX7 PHC1 RNF2 CBX2 BMI1 PHC2 PHC3 BMI1 CBX4` displays duplicates.\n",
      "`P14678 Q96GM8 Q16637 Q16637 P08621 Q9H840 Q9BWU0 P57678 Q9H875 P83369 Q9BV90 P63162 Q8WXD5 Q71H61 P09234 Q9UHI6 P62304 P62308 Q8IYT2 Q969L4 Q9NWZ8 O14893` displays duplicates.\n",
      "`SNRPB TOE1 SMN1 SMN1 SNRNP70 GEMIN7 SLC4A1AP GEMIN4 PRKRIP1 LSM11 SNRNP25 SNRPN GEMIN6 ILDR2 SNRPC DDX20 SNRPE SNRPG CMTR2 LSM10 GEMIN8 GEMIN2` displays duplicates.\n",
      "`P01568 P01562 P01571 P05015 P01570 P01562 P05014 P01563 P05013 P01569` displays duplicates.\n",
      "`IFNA21 IFNA1 IFNA17 IFNA16 IFNA14 IFNA1 IFNA4 IFNA2 IFNA6 IFNA5` displays duplicates.\n",
      "`O75069 P62805  Q8WUP2 P68431 Q8N806 P68431 Q13111` displays duplicates.\n",
      "`TMCC2 H4C1 H3-2 FBLIM1 H3C1 UBR7 H3C1 CHAF1A` displays duplicates.\n",
      "`Q8WXA9 O95232 P0DN76 Q13523 Q05519 Q8IZL8 Q99590 Q14498 Q7L014 P26368 P0DN76` displays duplicates.\n",
      "`SREK1 LUC7L3 U2AF1L5 PRPF4B SRSF11 PELP1 SCAF11 RBM39 DDX46 U2AF2 U2AF1L5` displays duplicates.\n",
      "`P01562 P01571 P05015 P01562 P01566 P01563 P05013 P01569 P05161` displays duplicates.\n",
      "`IFNA1 IFNA17 IFNA16 IFNA1 IFNA10 IFNA2 IFNA6 IFNA5 ISG15` displays duplicates.\n",
      "`P32780 Q13889 Q13888 Q8IUD6 Q92759 Q6P1K8 Q6P1K8 P19447 Q6ZYL4 Q03393` displays duplicates.\n",
      "`GTF2H1 GTF2H3 GTF2H2 RNF135 GTF2H4 GTF2H2C GTF2H2C ERCC3 GTF2H5 PTS` displays duplicates.\n",
      "`Q99909 Q16385 Q16385  Q7RTT5` displays duplicates.\n",
      "`SSX3 SSX2 SSX2 SSX6P SSX7` displays duplicates.\n",
      "`Q9BQ83 Q9BQ83` displays duplicates.\n",
      "`SLX1A SLX1A` displays duplicates.\n",
      "`Q9BQ83 Q5TCX8 Q9BQ83 Q86WP2` displays duplicates.\n",
      "`SLX1A MAP3K21 SLX1A GPBP1` displays duplicates.\n",
      "`P39060 P18065 Q3LXA3 P59665 P59665 Q9UBX1 Q8N8U9` displays duplicates.\n",
      "`COL18A1 IGFBP2 TKFC DEFA1 DEFA1 CTSF BMPER` displays duplicates.\n",
      "`Q06413 Q02080 Q14814 Q02080 Q02078` displays duplicates.\n",
      "`MEF2C MEF2B MEF2D MEF2B MEF2A` displays duplicates.\n",
      "`Q6P1K8 Q6P1K8` displays duplicates.\n",
      "`GTF2H2C GTF2H2C` displays duplicates.\n",
      "`Q8WTQ1 Q8WTQ1` displays duplicates.\n",
      "`DEFB104A DEFB104A` displays duplicates.\n",
      "`Q9GZM3  Q9H9Y4 Q5VT52 Q5T3F8 Q9NQG5 P19387 O15514 P24928 P30876 P62487 P52434 P19388 P61218 P36954 P52435 Q8NI22 P0CAP1 O94762 O60942 P0CAP1 Q9Y5B0 Q96P16 Q9GZY4 Q9UHW5 P53803 Q8IXW5 Q9HCN4 P62875` displays duplicates.\n",
      "`POLR2J2 OR4K3 GPN2 RPRD2 TMEM63B RPRD1B POLR2C POLR2D POLR2A POLR2B POLR2G POLR2H POLR2E POLR2F POLR2I POLR2J MCFD2 MYZAP RECQL5 RNGTT MYZAP CTDP1 RPRD1A COA1 GPN3 POLR2K RPAP2 GPN1 POLR2L` displays duplicates.\n",
      "`Q06413 Q02080 Q02080 Q02078` displays duplicates.\n",
      "`MEF2C MEF2B MEF2B MEF2A` displays duplicates.\n",
      "`Q9P2F5 Q9GZY0 O14641 Q8TBB1 Q9GZY0 Q86WB0` displays duplicates.\n",
      "`STOX2 NXF2 DVL2 LNX1 NXF2 ZC3HC1` displays duplicates.\n",
      "`P20231 P20231` displays duplicates.\n",
      "`TPSB2 TPSB2` displays duplicates.\n",
      "`O75581 Q9BQB4 P05408 P0DML3 P0DML3 P01241` displays duplicates.\n",
      "`LRP6 SOST SCG5 CSH2 CSH2 GH1` displays duplicates.\n",
      "`P32780 Q13889 Q13888 Q92759 Q6P1K8 Q6P1K8 P19447 Q6ZYL4 Q03393` displays duplicates.\n",
      "`GTF2H1 GTF2H3 GTF2H2 GTF2H4 GTF2H2C GTF2H2C ERCC3 GTF2H5 PTS` displays duplicates.\n",
      "`P0DML3 Q9BQB4 P01241 P0DML3 P05408` displays duplicates.\n",
      "`CSH2 SOST GH1 CSH2 SCG5` displays duplicates.\n",
      "`Q9NS26 Q9NS26` displays duplicates.\n",
      "`SPANXA1 SPANXA1` displays duplicates.\n"
     ]
    }
   ],
   "source": [
    "# check for duplicates in the two main columns\n",
    "rows_with_issue_content = []\n",
    "for row in rd_df.itertuples():\n",
    "    accs = row.Uniprot_ACCs.split()\n",
    "    set_of_accs = set(accs)\n",
    "    if len(accs) != len(set_of_accs):\n",
    "        print(f\"`{row.Uniprot_ACCs}` displays duplicates.\")\n",
    "        rows_with_issue_content.append(row)\n",
    "    gns = row.genenames.split()\n",
    "    set_of_gns = set(gns)\n",
    "    if len(gns) != len(set_of_gns):\n",
    "        print(f\"`{row.genenames}` displays duplicates.\")\n",
    "        rows_with_issue_content.append(row)\n",
    "if not rows_with_issue_content:\n",
    "    import rich\n",
    "    rich.print(\"[bold]There are no occurences of duplicate identifiers observed in the two main columns[/bold].\")"
   ]
  },
  {
   "cell_type": "markdown",
   "id": "aaa8496d-235b-40aa-95ff-b91c5690b82f",
   "metadata": {},
   "source": [
    "**Seems to be an issue!**   \n",
    "I'll be sure to check after I address standardizing further and build in fixing!"
   ]
  },
  {
   "cell_type": "markdown",
   "id": "4c011fdb-9408-4de4-83b1-88ade9391cc6",
   "metadata": {},
   "source": [
    "-----\n",
    "\n",
    "Enjoy!"
   ]
  }
 ],
 "metadata": {
  "kernelspec": {
   "display_name": "Python 3 (ipykernel)",
   "language": "python",
   "name": "python3"
  },
  "language_info": {
   "codemirror_mode": {
    "name": "ipython",
    "version": 3
   },
   "file_extension": ".py",
   "mimetype": "text/x-python",
   "name": "python",
   "nbconvert_exporter": "python",
   "pygments_lexer": "ipython3",
   "version": "3.10.14"
  }
 },
 "nbformat": 4,
 "nbformat_minor": 5
}
