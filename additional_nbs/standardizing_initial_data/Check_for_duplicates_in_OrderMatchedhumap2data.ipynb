{
 "cells": [
  {
   "cell_type": "markdown",
   "id": "6765dab3-c001-4a71-9c39-87f40833bdb3",
   "metadata": {},
   "source": [
    "### Checking for duplicates in the two main columns of Standardized hu.MAP 2.0 CSV\n",
    "\n",
    "I observed some duplicates in the `Uniprot_ACCs` & `genenames` columns in the **raw** hu.MAP 2.0 data (see `Check_for_duplicates_in_author_provided_hu.MAP2.0_csv.ipynb`) and I took steps to address that, see `Standardizing_identifier_order_in_humap2-provided_csv.ipynb`.)  \n",
    "This checks if successfully handled, compared to raw.\n",
    "\n",
    "------"
   ]
  },
  {
   "cell_type": "markdown",
   "id": "2eee8d3f-70ef-444a-b932-c7a092bc0ac3",
   "metadata": {},
   "source": [
    "#### Preparation"
   ]
  },
  {
   "cell_type": "markdown",
   "id": "4955a5ee-dfc5-49ab-b173-dc6ae50ae59f",
   "metadata": {},
   "source": [
    "##### Get the complexes with confidence scores\n",
    "\n",
    "Get the fixed standardized CSV:"
   ]
  },
  {
   "cell_type": "code",
   "execution_count": 4,
   "id": "c80a36fc-fbb5-4980-aea5-25872d5aeb33",
   "metadata": {},
   "outputs": [
    {
     "name": "stdout",
     "output_type": "stream",
     "text": [
      "  % Total    % Received % Xferd  Average Speed   Time    Time     Time  Current\n",
      "                                 Dload  Upload   Total   Spent    Left  Speed\n",
      "100 1243k  100 1243k    0     0  2149k      0 --:--:-- --:--:-- --:--:-- 2152k\n"
     ]
    }
   ],
   "source": [
    "!curl -OL https://raw.githubusercontent.com/fomightez/humap2-binder/refs/heads/main/additional_nbs/standardizing_initial_data/humap2_complexes_20200809InOrderMatched.csv"
   ]
  },
  {
   "cell_type": "markdown",
   "id": "6bcf301a-75c8-4faa-9c2e-028d7cb4bc55",
   "metadata": {},
   "source": [
    "##### Put the data on the complexes into Pandas dataframe\n",
    "\n",
    "(I'm using uv here just because I want to learn about it. I could have run the code in the script right in this notebook, and skipped the pickling and read pickle steps.)"
   ]
  },
  {
   "cell_type": "markdown",
   "id": "3a6e10f2-2228-4d44-a27b-cf93aa431e8b",
   "metadata": {},
   "source": [
    "Get the script to use with `uv` to read in the raw data and make a dataframe."
   ]
  },
  {
   "cell_type": "code",
   "execution_count": 5,
   "id": "fa6f2f0f-2231-4d35-b5c7-08d89d5aed2d",
   "metadata": {},
   "outputs": [
    {
     "name": "stdout",
     "output_type": "stream",
     "text": [
      "  % Total    % Received % Xferd  Average Speed   Time    Time     Time  Current\n",
      "                                 Dload  Upload   Total   Spent    Left  Speed\n",
      "100  1007  100  1007    0     0   3460      0 --:--:-- --:--:-- --:--:--  3460\n"
     ]
    }
   ],
   "source": [
    "!curl -OL https://raw.githubusercontent.com/fomightez/structurework/refs/heads/master/humap3-utilities/complexes_rawCSV_to_df.py"
   ]
  },
  {
   "cell_type": "code",
   "execution_count": 1,
   "id": "faf15ae5-dcc7-4ca2-91a0-e1087c915791",
   "metadata": {},
   "outputs": [
    {
     "name": "stdout",
     "output_type": "stream",
     "text": [
      "Reading inline script metadata from `\u001b[36mcomplexes_rawCSV_to_df.py\u001b[39m`\n",
      "\u001b[2K\u001b[37m⠙\u001b[0m \u001b[2m                                                                              \u001b[0m"
     ]
    },
    {
     "data": {
      "text/html": [
       "<div>\n",
       "<style scoped>\n",
       "    .dataframe tbody tr th:only-of-type {\n",
       "        vertical-align: middle;\n",
       "    }\n",
       "\n",
       "    .dataframe tbody tr th {\n",
       "        vertical-align: top;\n",
       "    }\n",
       "\n",
       "    .dataframe thead th {\n",
       "        text-align: right;\n",
       "    }\n",
       "</style>\n",
       "<table border=\"1\" class=\"dataframe\">\n",
       "  <thead>\n",
       "    <tr style=\"text-align: right;\">\n",
       "      <th></th>\n",
       "      <th>HuMAP2_ID</th>\n",
       "      <th>Confidence</th>\n",
       "      <th>Uniprot_ACCs</th>\n",
       "      <th>genenames</th>\n",
       "    </tr>\n",
       "  </thead>\n",
       "  <tbody>\n",
       "    <tr>\n",
       "      <th>0</th>\n",
       "      <td>HuMAP2_00000</td>\n",
       "      <td>3</td>\n",
       "      <td>Q9BQS8 O95900</td>\n",
       "      <td>FYCO1 TRUB2</td>\n",
       "    </tr>\n",
       "    <tr>\n",
       "      <th>1</th>\n",
       "      <td>HuMAP2_00001</td>\n",
       "      <td>4</td>\n",
       "      <td>Q15102 P68402 Q15797 P08133 Q99426 Q9H4M9</td>\n",
       "      <td>PAFAH1B3 PAFAH1B2 SMAD1 ANXA6 TBCB EHD1</td>\n",
       "    </tr>\n",
       "    <tr>\n",
       "      <th>2</th>\n",
       "      <td>HuMAP2_00002</td>\n",
       "      <td>5</td>\n",
       "      <td>A1KXE4 Q9UF11 Q6ZRY4 Q15038 O43251 Q9Y6M7 Q154...</td>\n",
       "      <td>FAM168B PLEKHB1 RBPMS2 DAZAP2 RBFOX2 SLC4A7 RB...</td>\n",
       "    </tr>\n",
       "    <tr>\n",
       "      <th>3</th>\n",
       "      <td>HuMAP2_00003</td>\n",
       "      <td>5</td>\n",
       "      <td>O14974 Q8WUM9 Q9Y5Y0 Q16563 Q15836 Q14919 Q9BW...</td>\n",
       "      <td>PPP1R12A SLC20A1 FLVCR1 SYPL1 VAMP3 DRAP1 PHF7...</td>\n",
       "    </tr>\n",
       "    <tr>\n",
       "      <th>4</th>\n",
       "      <td>HuMAP2_00004</td>\n",
       "      <td>4</td>\n",
       "      <td>Q49A92 Q8WV99 Q9NQT8 Q9H672 P20774</td>\n",
       "      <td>C8orf34 ZFAND2B KIF13B ASB7 OGN</td>\n",
       "    </tr>\n",
       "    <tr>\n",
       "      <th>...</th>\n",
       "      <td>...</td>\n",
       "      <td>...</td>\n",
       "      <td>...</td>\n",
       "      <td>...</td>\n",
       "    </tr>\n",
       "    <tr>\n",
       "      <th>6960</th>\n",
       "      <td>HuMAP2_07014</td>\n",
       "      <td>4</td>\n",
       "      <td>Q9HC97 Q6S8J3 P31152 P13727 Q92871</td>\n",
       "      <td>GPR35 POTEE MAPK4 PRG2 PMM1</td>\n",
       "    </tr>\n",
       "    <tr>\n",
       "      <th>6961</th>\n",
       "      <td>HuMAP2_07015</td>\n",
       "      <td>4</td>\n",
       "      <td>Q8N5N7 Q96E29 O75127 Q96I51 Q9H5L6 Q9NPE2</td>\n",
       "      <td>MRPL50 MTERF3 PTCD1 RCC1L THAP9 NGRN</td>\n",
       "    </tr>\n",
       "    <tr>\n",
       "      <th>6962</th>\n",
       "      <td>HuMAP2_07016</td>\n",
       "      <td>5</td>\n",
       "      <td>Q9UPQ7 Q2T9J0 Q8NE31 O75319 P52952 Q96HN2 O438...</td>\n",
       "      <td>PDZRN3 TYSND1 FAM13C DUSP11 NKX2-5 AHCYL2 AHCY...</td>\n",
       "    </tr>\n",
       "    <tr>\n",
       "      <th>6963</th>\n",
       "      <td>HuMAP2_07017</td>\n",
       "      <td>2</td>\n",
       "      <td>Q96GP6 Q53GT1 P49448</td>\n",
       "      <td>SCARF2 KLHL22 GLUD2</td>\n",
       "    </tr>\n",
       "    <tr>\n",
       "      <th>6964</th>\n",
       "      <td>HuMAP2_07018</td>\n",
       "      <td>2</td>\n",
       "      <td>Q2NKX9 Q86US8 Q9Y223</td>\n",
       "      <td>C2orf68 SMG6 GNE</td>\n",
       "    </tr>\n",
       "  </tbody>\n",
       "</table>\n",
       "<p>6965 rows × 4 columns</p>\n",
       "</div>"
      ],
      "text/plain": [
       "         HuMAP2_ID  Confidence  \\\n",
       "0     HuMAP2_00000           3   \n",
       "1     HuMAP2_00001           4   \n",
       "2     HuMAP2_00002           5   \n",
       "3     HuMAP2_00003           5   \n",
       "4     HuMAP2_00004           4   \n",
       "...            ...         ...   \n",
       "6960  HuMAP2_07014           4   \n",
       "6961  HuMAP2_07015           4   \n",
       "6962  HuMAP2_07016           5   \n",
       "6963  HuMAP2_07017           2   \n",
       "6964  HuMAP2_07018           2   \n",
       "\n",
       "                                           Uniprot_ACCs  \\\n",
       "0                                         Q9BQS8 O95900   \n",
       "1             Q15102 P68402 Q15797 P08133 Q99426 Q9H4M9   \n",
       "2     A1KXE4 Q9UF11 Q6ZRY4 Q15038 O43251 Q9Y6M7 Q154...   \n",
       "3     O14974 Q8WUM9 Q9Y5Y0 Q16563 Q15836 Q14919 Q9BW...   \n",
       "4                    Q49A92 Q8WV99 Q9NQT8 Q9H672 P20774   \n",
       "...                                                 ...   \n",
       "6960                 Q9HC97 Q6S8J3 P31152 P13727 Q92871   \n",
       "6961          Q8N5N7 Q96E29 O75127 Q96I51 Q9H5L6 Q9NPE2   \n",
       "6962  Q9UPQ7 Q2T9J0 Q8NE31 O75319 P52952 Q96HN2 O438...   \n",
       "6963                               Q96GP6 Q53GT1 P49448   \n",
       "6964                               Q2NKX9 Q86US8 Q9Y223   \n",
       "\n",
       "                                              genenames  \n",
       "0                                           FYCO1 TRUB2  \n",
       "1               PAFAH1B3 PAFAH1B2 SMAD1 ANXA6 TBCB EHD1  \n",
       "2     FAM168B PLEKHB1 RBPMS2 DAZAP2 RBFOX2 SLC4A7 RB...  \n",
       "3     PPP1R12A SLC20A1 FLVCR1 SYPL1 VAMP3 DRAP1 PHF7...  \n",
       "4                       C8orf34 ZFAND2B KIF13B ASB7 OGN  \n",
       "...                                                 ...  \n",
       "6960                        GPR35 POTEE MAPK4 PRG2 PMM1  \n",
       "6961               MRPL50 MTERF3 PTCD1 RCC1L THAP9 NGRN  \n",
       "6962  PDZRN3 TYSND1 FAM13C DUSP11 NKX2-5 AHCYL2 AHCY...  \n",
       "6963                                SCARF2 KLHL22 GLUD2  \n",
       "6964                                   C2orf68 SMG6 GNE  \n",
       "\n",
       "[6965 rows x 4 columns]"
      ]
     },
     "execution_count": 1,
     "metadata": {},
     "output_type": "execute_result"
    }
   ],
   "source": [
    "!uv run complexes_rawCSV_to_df.py humap2_complexes_20200809InOrderMatched.csv\n",
    "import pandas as pd\n",
    "rd_df = pd.read_pickle('raw_complexes_pickled_df.pkl')\n",
    "rd_df"
   ]
  },
  {
   "cell_type": "markdown",
   "id": "c21e55a6-7064-430a-bacd-c9fbb7d2f9fe",
   "metadata": {},
   "source": [
    "That's a lot of complexes!\n",
    "\n",
    "--------"
   ]
  },
  {
   "cell_type": "markdown",
   "id": "b6663f04-1483-4e58-9692-84abffbeecfe",
   "metadata": {},
   "source": [
    "### Now to check for duplicates"
   ]
  },
  {
   "cell_type": "code",
   "execution_count": 2,
   "id": "2f3a0227-c905-4572-97e4-613e396f0f4c",
   "metadata": {},
   "outputs": [
    {
     "data": {
      "text/html": [
       "<pre style=\"white-space:pre;overflow-x:auto;line-height:normal;font-family:Menlo,'DejaVu Sans Mono',consolas,'Courier New',monospace\"><span style=\"font-weight: bold\">There are no occurences of duplicate identifiers observed in the two main columns</span>.\n",
       "</pre>\n"
      ],
      "text/plain": [
       "\u001b[1mThere are no occurences of duplicate identifiers observed in the two main columns\u001b[0m.\n"
      ]
     },
     "metadata": {},
     "output_type": "display_data"
    }
   ],
   "source": [
    "# check for duplicates in the two main columns\n",
    "rows_with_issue_content = []\n",
    "for row in rd_df.itertuples():\n",
    "    accs = row.Uniprot_ACCs.split()\n",
    "    set_of_accs = set(accs)\n",
    "    if len(accs) != len(set_of_accs):\n",
    "        print(f\"`{row.Uniprot_ACCs}` displays duplicates.\")\n",
    "        rows_with_issue_content.append(row)\n",
    "    gns = row.genenames.split()\n",
    "    # remove those with `SPECIALin_UniProt_but_no_gene` from consideration because can occur more than once to balance\n",
    "    identifiers_not_to_consider = ['SPECIALin_UniProt_but_no_gene']\n",
    "    gns = [x for x in gns if x not in identifiers_not_to_consider]\n",
    "    set_of_gns = set(gns)\n",
    "    if len(gns) != len(set_of_gns):\n",
    "        print(f\"`{row.genenames}` displays duplicates.\")\n",
    "        rows_with_issue_content.append(row)\n",
    "if not rows_with_issue_content:\n",
    "    import rich\n",
    "    rich.print(\"[bold]There are no occurences of duplicate identifiers observed in the two main columns[/bold].\")"
   ]
  },
  {
   "cell_type": "markdown",
   "id": "4c011fdb-9408-4de4-83b1-88ade9391cc6",
   "metadata": {},
   "source": [
    "-----\n",
    "\n",
    "Enjoy!"
   ]
  }
 ],
 "metadata": {
  "kernelspec": {
   "display_name": "Python 3 (ipykernel)",
   "language": "python",
   "name": "python3"
  },
  "language_info": {
   "codemirror_mode": {
    "name": "ipython",
    "version": 3
   },
   "file_extension": ".py",
   "mimetype": "text/x-python",
   "name": "python",
   "nbconvert_exporter": "python",
   "pygments_lexer": "ipython3",
   "version": "3.10.14"
  }
 },
 "nbformat": 4,
 "nbformat_minor": 5
}
