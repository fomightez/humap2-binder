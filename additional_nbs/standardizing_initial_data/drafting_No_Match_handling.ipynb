{
 "cells": [
  {
   "cell_type": "markdown",
   "id": "3368f588-6d0d-4cfd-aca8-dbf25aa3ed23",
   "metadata": {},
   "source": [
    "### Drafting code to handle additional drafting code for 'No Match' examples identified during synonyms work\n",
    "\n",
    "This is for drafting code to go into `Looking_up_synonyms_handling_code.ipynb` to handle dealing with the 'WARNING' ones, see the next code for more insight."
   ]
  },
  {
   "cell_type": "code",
   "execution_count": 1,
   "id": "359794f0-fdc1-43dd-a8c9-9e2d0a075841",
   "metadata": {},
   "outputs": [],
   "source": [
    "# Drafting code to handle additional drafting code for 'No Match' examples identified during synonyms work\n",
    "# This is the string I got when running the code above at some point\n",
    "s = '''WARNING: No match seen for LILRA6 among O75019 Q8IZ02 SPECIAL_unaccounted_gene SPECIAL_unaccounted_gene\n",
    "WARNING: No match seen for LILRB3 among O75019 Q8IZ02 SPECIAL_unaccounted_gene SPECIAL_unaccounted_gene\n",
    "WARNING: No match seen for NEDD8-MDP1 among Q9H2D1 Q9NWH7 SPECIAL_unaccounted_gene\n",
    "WARNING: No match seen for GK3P among P32189 SPECIAL_unaccounted_gene\n",
    "WARNING: No match seen for HMGB1P1 among P26583 P09429 P23497 SPECIAL_unaccounted_gene\n",
    "WARNING: No match seen for NME2P1 among Q9H4I3 P22392 O00746 Q13232 P22392 SPECIAL_unaccounted_gene\n",
    "WARNING: No match seen for MRPL45 among Q8TAE8 Q9UBX3 Q9NVS2 Q13405 Q6P161 Q96EL3 Q7Z7H8 Q9NWU5 Q7Z2W9 Q13084 Q9NQ50 Q8IXM3 Q86TS9 Q9BYC9 Q9P0M9 Q8TCC3 Q9NRX2 Q96DV4 Q9H0U6 P52815 Q9Y3B7 Q9H9J2 Q9HD33 Q96GC5 Q7Z7F7 Q9NP92 Q9NYK5 Q9BZE1 Q14197 Q16540 Q9NX20 Q4U2R6 Q9BQC6 Q9BYD1 Q9BYC8 P49406 Q9BQ48 Q96EH3 Q9NZE8 Q6P1L8 Q8N983 Q9H2W6 Q9Y6G3 O75394 Q96A35 Q8N5N7 Q9P015 P09001 Q9BYD6 Q5T653 Q9BYD3 Q9BYD2 SPECIAL_unaccounted_gene\n",
    "WARNING: No match seen for CIRBP-AS1 among Q15042 Q02750 P36507 P15056 P01116 P10398 P04049 Q8IVT5 SPECIAL_unaccounted_gene\n",
    "WARNING: No match seen for INTS4P2 among Q5TA45 Q96HW7 Q9NVH2 Q6P9B9 Q9NV88 Q9UL03 Q13315 SPECIAL_unaccounted_gene\n",
    "WARNING: No match seen for PRKY among Q16644 O75582 O75676 Q16539 P31260 Q96CC6 Q15759 Q9BY84 Q5VYV7 Q9HBH9 P31269 P17482 O75147 Q32MK0 Q15256 Q9H1R3 Q9BUB5 SPECIAL_unaccounted_gene\n",
    "WARNING: No match seen for TEX15 among P01008 Q99941 P43251 SPECIAL_unaccounted_gene\n",
    "WARNING: No match seen for GGT2 among P19440 SPECIAL_unaccounted_gene\n",
    "WARNING: No match seen for PRR5-ARHGAP8 among P85298 Q8WXA8 SPECIAL_unaccounted_gene\n",
    "WARNING: No match seen for PATJ among Q9Y2J4 Q9HAP6 Q9NUP9 Q8N3R9 Q9BUF7 O75970 SPECIAL_unaccounted_gene SPECIAL_unaccounted_gene\n",
    "WARNING: No match seen for SNRPGP15 among P63162 P62306 SPECIAL_unaccounted_gene\n",
    "WARNING: No match seen for PZP among Q96S86 Q641Q3 Q9UJH8 Q08397 Q8WUX2 P22352 P01023 SPECIAL_unaccounted_gene\n",
    "WARNING: No match seen for PRSS46P among Q9UHI8 Q9UI38 SPECIAL_unaccounted_gene\n",
    "WARNING: No match seen for IGHG3 among P35219 SPECIAL_unaccounted_gene\n",
    "WARNING: No match seen for RPS26P11 among Q9BU19 Q02539 SPECIAL_unaccounted_gene\n",
    "WARNING: No match seen for ABHD18 among Q3V5L5 SPECIAL_unaccounted_gene\n",
    "WARNING: No match seen for IGHA1 among O75556 Q8NFR7 P02788 P61626 SPECIAL_unaccounted_gene\n",
    "WARNING: No match seen for EP400P1 among Q96HT8 Q15014 Q9UBU8 Q9Y605 Q86YC2 SPECIAL_unaccounted_gene\n",
    "WARNING: No match seen for DSCR4 among P02655 P01350 SPECIAL_unaccounted_gene SPECIAL_unaccounted_gene\n",
    "WARNING: No match seen for CROCCP2 among P02655 P01350 SPECIAL_unaccounted_gene SPECIAL_unaccounted_gene\n",
    "WARNING: No match seen for SOWAHA among Q53LP3 Q9HCM7 Q8WXX7 P61962 SPECIAL_unaccounted_gene\n",
    "WARNING: No match seen for POM121C among Q96HA1 SPECIAL_unaccounted_gene\n",
    "WARNING: No match seen for LINC01667 among O00481 P78410 O00478 SPECIAL_unaccounted_gene\n",
    "WARNING: No match seen for CTSL3P among P07711 SPECIAL_unaccounted_gene\n",
    "WARNING: No match seen for KIR3DP1 among Q14954 P43631 Q14953 P43629 SPECIAL_unaccounted_gene\n",
    "WARNING: No match seen for AKAP2 among Q9Y2D5 Q96SN8 P31323 P13861 P57105 Q68DQ2 P22612 P17612 P22694 Q9UKA4 Q12802 Q86UN6 Q99996 Q92667 P24588 Q76N32 P11137 P51817 Q96DH6 SPECIAL_unaccounted_gene\n",
    "WARNING: No match seen for FBLL1 among P49184 SPECIAL_unaccounted_gene\n",
    "WARNING: No match seen for IGHA2 among Q96Q45 P11678 SPECIAL_unaccounted_gene\n",
    "WARNING: No match seen for GPATCH4 among Q8NDF8 SPECIAL_unaccounted_gene\n",
    "WARNING: No match seen for ZSCAN12 among P14384 SPECIAL_unaccounted_gene\n",
    "WARNING: No match seen for USP41 among Q9UMW8 SPECIAL_unaccounted_gene\n",
    "WARNING: No match seen for TRAC among Q15545 Q86UD1 SPECIAL_unaccounted_gene\n",
    "WARNING: No match seen for RUNDC1 among P09917 SPECIAL_unaccounted_gene\n",
    "WARNING: No match seen for PABPC4L among Q8NEY8 Q86U42 Q8WXF0 Q96MU7 O75494 Q96N46 Q8IYB3 P62995 Q16629 Q13247 Q13243 Q13595 Q9UQ35 Q9UHC7 O00507 Q07955 Q13242 P84103 Q08170 Q9BRL6 Q13427 P49761 P49759 P49760 Q9NWH9 SPECIAL_unaccounted_gene\n",
    "WARNING: No match seen for CCDC84 among Q86UT8 P54105 P62316 Q969L4 P63162 P14678 P62306 P62304 P62308 Q8IYT2 Q96GM8 SPECIAL_unaccounted_gene\n",
    "WARNING: No match seen for HSP90AA4P among Q8TDR2 Q14004 Q9Y243 SPECIAL_unaccounted_gene SPECIAL_unaccounted_gene SPECIAL_unaccounted_gene\n",
    "WARNING: No match seen for FRMD8P1 among Q9BZ67 SPECIAL_unaccounted_gene\n",
    "WARNING: No match seen for HSPA7 among Q5T124 O15229 SPECIAL_unaccounted_gene\n",
    "WARNING: No match seen for IGLC7 among B9A064 P15814 SPECIAL_unaccounted_gene SPECIAL_unaccounted_gene SPECIAL_unaccounted_gene\n",
    "WARNING: No match seen for IGLC2 among B9A064 P15814 SPECIAL_unaccounted_gene SPECIAL_unaccounted_gene SPECIAL_unaccounted_gene\n",
    "WARNING: No match seen for IGLC3 among B9A064 P15814 SPECIAL_unaccounted_gene SPECIAL_unaccounted_gene SPECIAL_unaccounted_gene\n",
    "WARNING: No match seen for APOBEC3D among Q8IUX4 Q96E39 SPECIAL_unaccounted_gene\n",
    "WARNING: No match seen for HECTD4 among Q08380 Q8NCJ5 O75592 Q9Y223 SPECIAL_unaccounted_gene\n",
    "WARNING: No match seen for CEP170P1 among Q5SW79 SPECIAL_unaccounted_gene\n",
    "WARNING: No match seen for WASH3P among Q9Y3C0 Q9UM21 O75143 O75385 SPECIAL_unaccounted_gene\n",
    "WARNING: No match seen for SIGLEC16 among Q96LC7 SPECIAL_unaccounted_gene\n",
    "WARNING: No match seen for C17orf80 among Q969F1 Q9BSJ5 Q9H825 Q9UKD1 Q9Y692 P16070 SPECIAL_unaccounted_gene\n",
    "WARNING: No match seen for FBXL18 among Q96A19 Q96EW2 Q9Y620 P43355 Q8IWZ3 O15480 O15481 Q8N7X4 Q07617 SPECIAL_unaccounted_gene\n",
    "WARNING: No match seen for ARMCX4 among Q9H3H5 P15812 SPECIAL_unaccounted_gene\n",
    "WARNING: No match seen for SAC3D1 among Q8NF86 SPECIAL_unaccounted_gene\n",
    "WARNING: No match seen for RPSAP58 among Q14657 Q86X02 P25208 P08865 SPECIAL_unaccounted_gene\n",
    "WARNING: No match seen for C9orf106 among P05814 SPECIAL_unaccounted_gene\n",
    "WARNING: No match seen for POTEKP among Q9NVL8 Q8TC41 Q9ULC3 P02774 SPECIAL_unaccounted_gene\n",
    "WARNING: No match seen for SSX6P among Q16385 Q16385 Q99909 Q7RTT5 SPECIAL_unaccounted_gene SPECIAL_unaccounted_gene SPECIAL_unaccounted_gene\n",
    "WARNING: No match seen for APOA4 among P69905 P19823 P02652 Q8N9F7 P02656 Q9H1J1 Q14624 P19652 P02763 P04217 P69891 P68871 P02768 P00751 P02790 P02042 P00915 P01024 P02787 SPECIAL_unaccounted_gene SPECIAL_unaccounted_gene\n",
    "WARNING: No match seen for LOC100507703 among P04439 SPECIAL_unaccounted_gene\n",
    "WARNING: No match seen for IGKC among O75635 O00204 Q9UMR2 P26447 P16050 Q9UBH0 P29373 Q9Y6R7 P01024 SPECIAL_unaccounted_gene SPECIAL_unaccounted_gene SPECIAL_unaccounted_gene\n",
    "WARNING: No match seen for IGHG2 among O75635 O00204 Q9UMR2 P26447 P16050 Q9UBH0 P29373 Q9Y6R7 P01024 SPECIAL_unaccounted_gene SPECIAL_unaccounted_gene SPECIAL_unaccounted_gene\n",
    "WARNING: No match seen for IGHG1 among O75635 O00204 Q9UMR2 P26447 P16050 Q9UBH0 P29373 Q9Y6R7 P01024 SPECIAL_unaccounted_gene SPECIAL_unaccounted_gene SPECIAL_unaccounted_gene\n",
    "WARNING: No match seen for OR4K3 among Q9NQG5 P19387 O15514 P24928 P30876 P62487 P52434 P19388 P61218 P36954 P52435 O94762 Q96P16 P53803 P62875 Q5VT52 P0CAP1 Q9Y5B0 Q8IXW5 Q92576 Q9HCN4 Q9GZY4 Q9UHW5 SPECIAL_unaccounted_gene\n",
    "WARNING: No match seen for ZNF724 among Q3ZCQ8 Q9UEG4 Q6ZMS4 SPECIAL_unaccounted_gene\n",
    "WARNING: No match seen for IGHM among Q86TB9 Q6PJG9 SPECIAL_unaccounted_gene\n",
    "WARNING: No match seen for NPIPB7 among Q9Y689 O95136 P07360 SPECIAL_unaccounted_gene\n",
    "WARNING: No match seen for PLEKHA8P1 among Q96JA3 SPECIAL_unaccounted_gene\n",
    "WARNING: No match seen for DHRS4L2 among Q9BTZ2 SPECIAL_unaccounted_gene\n",
    "WARNING: No match seen for PPP1R15B among P43115 SPECIAL_unaccounted_gene\n",
    "WARNING: No match seen for HLA-H among Q13296 P13747 O95672 SPECIAL_unaccounted_gene\n",
    "WARNING: No match seen for MRRFP1 among Q96E11 SPECIAL_unaccounted_gene\n",
    "WARNING: No match seen for PIPSL among Q96I34 Q99755 O60331 P53611 Q86XD5 Q9H832 Q8N414 Q15788 P10114 O75781 Q6PGQ7 SPECIAL_unaccounted_gene\n",
    "WARNING: No match seen for C3orf14 among Q9NW75 Q9C073 Q9NZM6 Q7RTV5 Q9NVR0 P29459 Q96BQ1 Q8NDH6 Q9HBI5 Q96ST8 Q9NRD5 Q05084 Q13563 Q9BX67 Q9Y624 SPECIAL_unaccounted_gene\n",
    "WARNING: No match seen for KLRA1P among Q8NDV1 O15466 Q9NPC4 P30511 SPECIAL_unaccounted_gene\n",
    "'''"
   ]
  },
  {
   "cell_type": "code",
   "execution_count": 2,
   "id": "4544ee2d-308e-4f12-8d61-bd558ad21682",
   "metadata": {},
   "outputs": [
    {
     "name": "stdout",
     "output_type": "stream",
     "text": [
      "There were 75 lines with the text 'WARNING: No match seen for ' and\n",
      "75 identifiers mined from those lines.\n",
      "After step to remove any possible duplicates, there were 75 unique identifiers mined from those lines.\n"
     ]
    }
   ],
   "source": [
    "# Make list\n",
    "text_signal = \"WARNING: No match seen for \"\n",
    "genenames_with_no_match = []\n",
    "lines_with_identifier = 0\n",
    "for l in s.split('\\n'):\n",
    "    if text_signal in l:\n",
    "        #print(l) #For DEBUGGING; uncomment when debugging, make for loop line like `for l in s.split('\\n')[:10]` to limit\n",
    "        lines_with_identifier += 1\n",
    "        gn = l.split(text_signal,1)[1].split()[0]\n",
    "        genenames_with_no_match.append(gn)\n",
    "print(f\"There were {lines_with_identifier} lines with the text '{text_signal}' and\\n{len(genenames_with_no_match)} identifiers mined from those lines.\") #sanity check\n",
    "# limit those to unique to remove possible duplicates because why waste time repeating lookup more than once.\n",
    "genenames_with_no_match = list(set(genenames_with_no_match))\n",
    "print(f\"After step to remove any possible duplicates, there were {len(genenames_with_no_match)} unique identifiers mined from those lines.\")"
   ]
  },
  {
   "cell_type": "code",
   "execution_count": 3,
   "id": "5403f094-ce6d-438a-8f47-6df39ca9dd92",
   "metadata": {},
   "outputs": [],
   "source": [
    "from unipressed import IdMappingClient\n",
    "import time\n",
    "request = IdMappingClient.submit(\n",
    "    source=\"GeneCards\", dest=\"UniProtKB\", ids=genenames_with_no_match\n",
    ")\n",
    "time.sleep(len(genenames_with_no_match)*1.1)\n",
    "results_list = list(request.each_result())"
   ]
  },
  {
   "cell_type": "code",
   "execution_count": 6,
   "id": "14a2db43-471f-4acf-972f-51f41f458c57",
   "metadata": {},
   "outputs": [
    {
     "name": "stdout",
     "output_type": "stream",
     "text": [
      "Number of gene names submitted: 75\n",
      "Number of gene names mapped to Human Genes: 61\n",
      "Those 14 not mapped so far: ['LINC01667', 'LOC100507703', 'CCDC84', 'AKAP2', 'KLRA1P', 'MRRFP1', 'C17orf80', 'INTS4P2', 'C9orf106', 'GGT2', 'GK3P', 'C3orf14', 'RPSAP58', 'USP41']\n"
     ]
    }
   ],
   "source": [
    "# See if any missed.\n",
    "# Turns out some like `PRR5-ARHGAP8` map to several, in this example: 'B1AHC3','B1AHC4','H0Y9T8'\n",
    "# and so cannot just use `results_list` directly.\n",
    "# Let's just take first instance listed for those with more than one:\n",
    "raw_results_list = results_list.copy()\n",
    "results_list = [next((d for d in results_list if d['from'] == x), x) for x in {d['from'] for d in results_list}]\n",
    "print(f\"Number of gene names submitted: {len(genenames_with_no_match)}\")\n",
    "print(f\"Number of gene names mapped to Human Genes: {len(results_list)}\")\n",
    "gns_mapped = [x['from'] for x in results_list]\n",
    "missing = list(set(genenames_with_no_match) - set (gns_mapped))\n",
    "print(f\"Those {len(missing)} not mapped so far: {missing}\")"
   ]
  },
  {
   "cell_type": "code",
   "execution_count": 17,
   "id": "8dd89b8a-f775-4b60-b760-6581d7149127",
   "metadata": {},
   "outputs": [
    {
     "name": "stdout",
     "output_type": "stream",
     "text": [
      "[{'from': 'SNRPGP15', 'to': 'A8MWD9'}, {'from': 'IGHA1', 'to': 'P01876'}, {'from': 'NME2P1', 'to': 'O60361'}, {'from': 'DSCR4', 'to': 'P56555'}]\n"
     ]
    }
   ],
   "source": [
    "# to show what this looks like for understanding code below\n",
    "print(results_list[:4])"
   ]
  },
  {
   "cell_type": "markdown",
   "id": "c500d432-264f-43b8-9e99-7c705ff54eba",
   "metadata": {},
   "source": [
    "14 is a much more manageable list to deal with by hand.\n",
    "\n",
    "Before doing that going to get the pieces of \n",
    "\n",
    "For piecing together the handling for these I need these three pieces for each, like these for gene name `OFCC1`:\n",
    "OFCC1 Q8IZS5\n",
    "\n",
    "\n",
    "special_genename_lookup_dict['OFCC1'] = 'Q8IZS5'\n",
    "\n",
    "\n",
    "`,'OFCC1'`"
   ]
  },
  {
   "cell_type": "code",
   "execution_count": 20,
   "id": "5bc54f38-fa70-4508-b5d2-c4ce01fc3cab",
   "metadata": {},
   "outputs": [
    {
     "name": "stdout",
     "output_type": "stream",
     "text": [
      "SNRPGP15 A8MWD9\n",
      "IGHA1 P01876\n",
      "NME2P1 O60361\n",
      "DSCR4 P56555\n",
      "PABPC4L P0CB38\n",
      "IGLC7 A0M8Q6\n",
      "SSX6P Q7RTT6\n",
      "GPATCH4 Q5T3I0\n",
      "CEP170P1 Q96L14\n",
      "FRMD8P1 Q9BZ68\n",
      "CROCCP2 Q86T23\n",
      "OR4K3 Q96R72\n",
      "FBXL18 Q96ME1\n",
      "HMGB1P1 B2RPK0\n",
      "FBLL1 A6NHQ2\n",
      "WASH3P C4AMC7\n",
      "ABHD18 Q0P651\n",
      "PZP P20742\n",
      "IGLC3 P0DOY3\n",
      "HECTD4 Q9Y4D8\n",
      "SOWAHA Q2M3V2\n",
      "SIGLEC16 A6NMB1\n",
      "TEX15 Q9BXT5\n",
      "PPP1R15B Q5SWA1\n",
      "PRSS46P E5RG02\n",
      "PLEKHA8P1 O95397\n",
      "SAC3D1 A6NKF1\n",
      "KIR3DP1 A0A0G2JN01\n",
      "MRPL45 Q9BRJ2\n",
      "NEDD8-MDP1 E9PL57\n",
      "HSPA7 P48741\n",
      "ARMCX4 Q5H9R4\n",
      "IGHM P01871\n",
      "PIPSL A2A3N6\n",
      "APOBEC3D Q96AK3\n",
      "POTEKP Q9BYX7\n",
      "IGKC P01834\n",
      "CIRBP-AS1 Q8TBR5\n",
      "ZSCAN12 O43309\n",
      "APOA4 P06727\n",
      "IGHG1 P01857\n",
      "CTSL3P Q5NE16\n",
      "ZNF724 A8MTY0\n",
      "PRKY O43930\n",
      "NPIPB7 O75200\n",
      "DHRS4L2 Q6PKH6\n",
      "HLA-H P01893\n",
      "IGHA2 P01877\n",
      "PRR5-ARHGAP8 B1AHC3\n",
      "EP400P1 Q6ZTU2\n",
      "PATJ Q8NI35\n",
      "LILRB3 O75022\n",
      "TRAC P01848\n",
      "POM121C A8CG34\n",
      "IGLC2 P0DOY2\n",
      "LILRA6 Q6PI73\n",
      "IGHG3 P01860\n",
      "IGHG2 P01859\n",
      "RUNDC1 Q96C34\n",
      "RPS26P11 Q5JNZ5\n",
      "HSP90AA4P Q58FG1\n"
     ]
    }
   ],
   "source": [
    "# Make the piece #1 pieces\n",
    "[print(f\"{d['from']} {d['to']}\")for d in results_list];"
   ]
  },
  {
   "cell_type": "code",
   "execution_count": 22,
   "id": "3a2f0529-e370-41c6-84a5-da9eba716b6d",
   "metadata": {},
   "outputs": [
    {
     "name": "stdout",
     "output_type": "stream",
     "text": [
      "special_genename_lookup_dict['SNRPGP15'] = 'A8MWD9'\n",
      "special_genename_lookup_dict['IGHA1'] = 'P01876'\n",
      "special_genename_lookup_dict['NME2P1'] = 'O60361'\n",
      "special_genename_lookup_dict['DSCR4'] = 'P56555'\n",
      "special_genename_lookup_dict['PABPC4L'] = 'P0CB38'\n",
      "special_genename_lookup_dict['IGLC7'] = 'A0M8Q6'\n",
      "special_genename_lookup_dict['SSX6P'] = 'Q7RTT6'\n",
      "special_genename_lookup_dict['GPATCH4'] = 'Q5T3I0'\n",
      "special_genename_lookup_dict['CEP170P1'] = 'Q96L14'\n",
      "special_genename_lookup_dict['FRMD8P1'] = 'Q9BZ68'\n",
      "special_genename_lookup_dict['CROCCP2'] = 'Q86T23'\n",
      "special_genename_lookup_dict['OR4K3'] = 'Q96R72'\n",
      "special_genename_lookup_dict['FBXL18'] = 'Q96ME1'\n",
      "special_genename_lookup_dict['HMGB1P1'] = 'B2RPK0'\n",
      "special_genename_lookup_dict['FBLL1'] = 'A6NHQ2'\n",
      "special_genename_lookup_dict['WASH3P'] = 'C4AMC7'\n",
      "special_genename_lookup_dict['ABHD18'] = 'Q0P651'\n",
      "special_genename_lookup_dict['PZP'] = 'P20742'\n",
      "special_genename_lookup_dict['IGLC3'] = 'P0DOY3'\n",
      "special_genename_lookup_dict['HECTD4'] = 'Q9Y4D8'\n",
      "special_genename_lookup_dict['SOWAHA'] = 'Q2M3V2'\n",
      "special_genename_lookup_dict['SIGLEC16'] = 'A6NMB1'\n",
      "special_genename_lookup_dict['TEX15'] = 'Q9BXT5'\n",
      "special_genename_lookup_dict['PPP1R15B'] = 'Q5SWA1'\n",
      "special_genename_lookup_dict['PRSS46P'] = 'E5RG02'\n",
      "special_genename_lookup_dict['PLEKHA8P1'] = 'O95397'\n",
      "special_genename_lookup_dict['SAC3D1'] = 'A6NKF1'\n",
      "special_genename_lookup_dict['KIR3DP1'] = 'A0A0G2JN01'\n",
      "special_genename_lookup_dict['MRPL45'] = 'Q9BRJ2'\n",
      "special_genename_lookup_dict['NEDD8-MDP1'] = 'E9PL57'\n",
      "special_genename_lookup_dict['HSPA7'] = 'P48741'\n",
      "special_genename_lookup_dict['ARMCX4'] = 'Q5H9R4'\n",
      "special_genename_lookup_dict['IGHM'] = 'P01871'\n",
      "special_genename_lookup_dict['PIPSL'] = 'A2A3N6'\n",
      "special_genename_lookup_dict['APOBEC3D'] = 'Q96AK3'\n",
      "special_genename_lookup_dict['POTEKP'] = 'Q9BYX7'\n",
      "special_genename_lookup_dict['IGKC'] = 'P01834'\n",
      "special_genename_lookup_dict['CIRBP-AS1'] = 'Q8TBR5'\n",
      "special_genename_lookup_dict['ZSCAN12'] = 'O43309'\n",
      "special_genename_lookup_dict['APOA4'] = 'P06727'\n",
      "special_genename_lookup_dict['IGHG1'] = 'P01857'\n",
      "special_genename_lookup_dict['CTSL3P'] = 'Q5NE16'\n",
      "special_genename_lookup_dict['ZNF724'] = 'A8MTY0'\n",
      "special_genename_lookup_dict['PRKY'] = 'O43930'\n",
      "special_genename_lookup_dict['NPIPB7'] = 'O75200'\n",
      "special_genename_lookup_dict['DHRS4L2'] = 'Q6PKH6'\n",
      "special_genename_lookup_dict['HLA-H'] = 'P01893'\n",
      "special_genename_lookup_dict['IGHA2'] = 'P01877'\n",
      "special_genename_lookup_dict['PRR5-ARHGAP8'] = 'B1AHC3'\n",
      "special_genename_lookup_dict['EP400P1'] = 'Q6ZTU2'\n",
      "special_genename_lookup_dict['PATJ'] = 'Q8NI35'\n",
      "special_genename_lookup_dict['LILRB3'] = 'O75022'\n",
      "special_genename_lookup_dict['TRAC'] = 'P01848'\n",
      "special_genename_lookup_dict['POM121C'] = 'A8CG34'\n",
      "special_genename_lookup_dict['IGLC2'] = 'P0DOY2'\n",
      "special_genename_lookup_dict['LILRA6'] = 'Q6PI73'\n",
      "special_genename_lookup_dict['IGHG3'] = 'P01860'\n",
      "special_genename_lookup_dict['IGHG2'] = 'P01859'\n",
      "special_genename_lookup_dict['RUNDC1'] = 'Q96C34'\n",
      "special_genename_lookup_dict['RPS26P11'] = 'Q5JNZ5'\n",
      "special_genename_lookup_dict['HSP90AA4P'] = 'Q58FG1'\n"
     ]
    }
   ],
   "source": [
    "# Make the piece #2 pieces, like `special_genename_lookup_dict['OFCC1'] = 'Q8IZS5'`\n",
    "itermed = \"\\n\".join([f\"special_genename_lookup_dict[`{d['from']}`] = `{d['to']}`\" for d in results_list])\n",
    "print(itermed.replace(\"`\",\"'\"))"
   ]
  },
  {
   "cell_type": "code",
   "execution_count": 16,
   "id": "f7748b50-84a2-4939-a70e-54d675694e6b",
   "metadata": {},
   "outputs": [
    {
     "name": "stdout",
     "output_type": "stream",
     "text": [
      ",'SNRPGP15' ,'IGHA1' ,'NME2P1' ,'DSCR4' ,'PABPC4L' ,'IGLC7' ,'SSX6P' ,'GPATCH4' ,'CEP170P1' ,'FRMD8P1' ,'CROCCP2' ,'OR4K3' ,'FBXL18' ,'HMGB1P1' ,'FBLL1' ,'WASH3P' ,'ABHD18' ,'PZP' ,'IGLC3' ,'HECTD4' ,'SOWAHA' ,'SIGLEC16' ,'TEX15' ,'PPP1R15B' ,'PRSS46P' ,'PLEKHA8P1' ,'SAC3D1' ,'KIR3DP1' ,'MRPL45' ,'NEDD8-MDP1' ,'HSPA7' ,'ARMCX4' ,'IGHM' ,'PIPSL' ,'APOBEC3D' ,'POTEKP' ,'IGKC' ,'CIRBP-AS1' ,'ZSCAN12' ,'APOA4' ,'IGHG1' ,'CTSL3P' ,'ZNF724' ,'PRKY' ,'NPIPB7' ,'DHRS4L2' ,'HLA-H' ,'IGHA2' ,'PRR5-ARHGAP8' ,'EP400P1' ,'PATJ' ,'LILRB3' ,'TRAC' ,'POM121C' ,'IGLC2' ,'LILRA6' ,'IGHG3' ,'IGHG2' ,'RUNDC1' ,'RPS26P11' ,'HSP90AA4P'\n"
     ]
    }
   ],
   "source": [
    "# Make the piece #3 pieces (thought it'd be the easiest and so I did first, but because of number of quotes involved in code and what I need in putput I cannot do it in one list comprehension)\n",
    "itermed = \" \".join([f\",`{d['from']}`\" for d in results_list])\n",
    "print(itermed.replace(\"`\",\"'\"))"
   ]
  },
  {
   "cell_type": "code",
   "execution_count": null,
   "id": "9c08ac1a-6f07-4e25-9aee-bca9ca0d84c0",
   "metadata": {},
   "outputs": [],
   "source": [
    " "
   ]
  },
  {
   "cell_type": "code",
   "execution_count": null,
   "id": "5af73a33-2ba2-44c9-81de-d77db6e8a26a",
   "metadata": {},
   "outputs": [],
   "source": [
    " "
   ]
  },
  {
   "cell_type": "code",
   "execution_count": null,
   "id": "2a15437a-5504-4691-bf96-e21faef69cf2",
   "metadata": {},
   "outputs": [],
   "source": [
    " "
   ]
  },
  {
   "cell_type": "code",
   "execution_count": null,
   "id": "ca33e50d-031e-445f-bd40-c9fb3c5c466d",
   "metadata": {},
   "outputs": [],
   "source": []
  },
  {
   "cell_type": "code",
   "execution_count": null,
   "id": "a4a026f3-d4c7-4dfb-bccb-fea677d67dc6",
   "metadata": {},
   "outputs": [],
   "source": []
  },
  {
   "cell_type": "code",
   "execution_count": null,
   "id": "7d1de3db-3e4f-48bc-84f9-bf3b65b245e5",
   "metadata": {},
   "outputs": [
    {
     "name": "stdout",
     "output_type": "stream",
     "text": [
      ".\n"
     ]
    }
   ],
   "source": [
    "# for development; to keep kernel active\n",
    "import time\n",
    "\n",
    "def executeSomething():\n",
    "    #code here\n",
    "    print ('.')\n",
    "    time.sleep(480) #60 seconds times 8 minutes\n",
    "\n",
    "while True:\n",
    "    executeSomething()"
   ]
  }
 ],
 "metadata": {
  "kernelspec": {
   "display_name": "Python 3 (ipykernel)",
   "language": "python",
   "name": "python3"
  },
  "language_info": {
   "codemirror_mode": {
    "name": "ipython",
    "version": 3
   },
   "file_extension": ".py",
   "mimetype": "text/x-python",
   "name": "python",
   "nbconvert_exporter": "python",
   "pygments_lexer": "ipython3",
   "version": "3.10.14"
  }
 },
 "nbformat": 4,
 "nbformat_minor": 5
}
